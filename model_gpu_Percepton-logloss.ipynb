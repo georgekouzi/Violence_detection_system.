{
 "cells": [
  {
   "cell_type": "code",
   "execution_count": 9,
   "metadata": {},
   "outputs": [
    {
     "data": {
      "text/plain": [
       "'3.6.12'"
      ]
     },
     "execution_count": 9,
     "metadata": {},
     "output_type": "execute_result"
    }
   ],
   "source": [
    "from platform import python_version\n",
    "python_version()"
   ]
  },
  {
   "cell_type": "code",
   "execution_count": 10,
   "metadata": {},
   "outputs": [],
   "source": [
    "import numpy as np\n",
    "#import tensorflow as tf\n",
    "#import keras as k\n",
    "import pandas as pd\n",
    "import matplotlib.pyplot as plt\n",
    "#import cv2 \n",
    "import math\n",
    "import os\n",
    "import time\n",
    "from sklearn.metrics import roc_auc_score"
   ]
  },
  {
   "cell_type": "code",
   "execution_count": 11,
   "metadata": {},
   "outputs": [],
   "source": [
    "import tensorflow.compat.v1 as tf\n",
    "tf.disable_v2_behavior()"
   ]
  },
  {
   "cell_type": "markdown",
   "metadata": {},
   "source": [
    "## functions "
   ]
  },
  {
   "cell_type": "code",
   "execution_count": 12,
   "metadata": {},
   "outputs": [],
   "source": [
    "# Disable warnings in Anaconda\n",
    "import warnings\n",
    "warnings.filterwarnings('ignore')"
   ]
  },
  {
   "cell_type": "code",
   "execution_count": 13,
   "metadata": {},
   "outputs": [],
   "source": [
    "#List of metric for classiffication models \n",
    "\n",
    "def metrics_classific(y,predicted,prob_predict,X):\n",
    "    from sklearn.metrics import confusion_matrix, classification_report, roc_curve, auc, accuracy_score,log_loss\n",
    "    confusion_matrix = confusion_matrix(y, predicted)\n",
    "    print(confusion_matrix)\n",
    "    print(classification_report(y, predicted))\n",
    "\n",
    "    # Validation ROC-AUC score\n",
    "    from sklearn.metrics import roc_auc_score\n",
    "    valid_score = roc_auc_score(y, predicted)\n",
    "    print('Validation ROC-AUC score:', valid_score)\n",
    "\n",
    "    # AUC score\n",
    "    from sklearn.metrics import  auc\n",
    "    false_positive_rate, true_positive_rate, thresholds = roc_curve(y, predicted)\n",
    "    auc = auc(false_positive_rate, true_positive_rate)\n",
    "    print('Validation AUC score:    ', auc)\n",
    "    print(\"Accuracy: %.2f%%\" % (accuracy_score(y, predicted) * 100.0))\n",
    "    print(\"LogLoss :\", log_loss(y_test,prob_predict))"
   ]
  },
  {
   "cell_type": "code",
   "execution_count": 14,
   "metadata": {},
   "outputs": [],
   "source": [
    "def sigmoid(z):\n",
    "    return 1/(1.0 + np.exp(-z))"
   ]
  },
  {
   "cell_type": "code",
   "execution_count": 15,
   "metadata": {},
   "outputs": [],
   "source": [
    "#transform prob_prediction to predictions \n",
    "def predictor(prob_prediction):\n",
    "    return np.array(([propability[0] < propability[1] for propability in prob_prediction]), dtype=int)"
   ]
  },
  {
   "cell_type": "markdown",
   "metadata": {},
   "source": [
    "# Import dataset"
   ]
  },
  {
   "cell_type": "code",
   "execution_count": 16,
   "metadata": {},
   "outputs": [],
   "source": [
    "X_true = pd.read_csv('X_true.csv').values\n",
    "y_true = pd.read_csv('y_true.csv').values"
   ]
  },
  {
   "cell_type": "code",
   "execution_count": 17,
   "metadata": {
    "scrolled": true
   },
   "outputs": [
    {
     "data": {
      "text/plain": [
       "((10800, 12288), (10800, 1))"
      ]
     },
     "execution_count": 17,
     "metadata": {},
     "output_type": "execute_result"
    }
   ],
   "source": [
    "X_true.shape, y_true.shape"
   ]
  },
  {
   "cell_type": "markdown",
   "metadata": {},
   "source": [
    "## Split data"
   ]
  },
  {
   "cell_type": "code",
   "execution_count": 18,
   "metadata": {},
   "outputs": [],
   "source": [
    "from sklearn.model_selection import train_test_split\n",
    "seed = 78\n",
    "test_size = 0.33\n",
    "X_train, X_, y_train, y_ = train_test_split(X_true, y_true, test_size=test_size, random_state=seed)\n",
    "X_test, X_validate, y_test, y_validate = train_test_split(X_, y_, test_size=test_size, random_state=seed)"
   ]
  },
  {
   "cell_type": "code",
   "execution_count": 19,
   "metadata": {},
   "outputs": [
    {
     "name": "stdout",
     "output_type": "stream",
     "text": [
      "X_train size : 7236 X_validate size : 1177 X_test size : 2387\n"
     ]
    }
   ],
   "source": [
    "print('X_train size :', X_train.shape[0],'X_validate size :', X_validate.shape[0], 'X_test size :',X_test.shape[0])"
   ]
  },
  {
   "cell_type": "code",
   "execution_count": 20,
   "metadata": {},
   "outputs": [
    {
     "name": "stdout",
     "output_type": "stream",
     "text": [
      "[[939 129]\n",
      " [503 816]]\n",
      "              precision    recall  f1-score   support\n",
      "\n",
      "         0.0       0.65      0.88      0.75      1068\n",
      "         1.0       0.86      0.62      0.72      1319\n",
      "\n",
      "    accuracy                           0.74      2387\n",
      "   macro avg       0.76      0.75      0.73      2387\n",
      "weighted avg       0.77      0.74      0.73      2387\n",
      "\n",
      "Validation ROC-AUC score: 0.7489319879718206\n",
      "Validation AUC score:     0.7489319879718206\n",
      "Accuracy: 73.52%\n",
      "LogLoss : 9.144788366004208\n",
      "Wall time: 9.96 s\n"
     ]
    }
   ],
   "source": [
    "%%time \n",
    "# Benchmark\n",
    "from sklearn.linear_model import Perceptron\n",
    "Per = Perceptron(random_state=seed).fit(X_train, y_train)\n",
    "predictions = Per.predict(X_test)\n",
    "prob_predict = Per.decision_function(X_test)\n",
    "metrics_classific(y_test,predictions,prob_predict, X_test)"
   ]
  },
  {
   "cell_type": "code",
   "execution_count": 21,
   "metadata": {},
   "outputs": [
    {
     "name": "stdout",
     "output_type": "stream",
     "text": [
      "[[ 830  238]\n",
      " [ 226 1093]]\n",
      "              precision    recall  f1-score   support\n",
      "\n",
      "         0.0       0.79      0.78      0.78      1068\n",
      "         1.0       0.82      0.83      0.82      1319\n",
      "\n",
      "    accuracy                           0.81      2387\n",
      "   macro avg       0.80      0.80      0.80      2387\n",
      "weighted avg       0.81      0.81      0.81      2387\n",
      "\n",
      "Validation ROC-AUC score: 0.8029058161755729\n",
      "Validation AUC score:     0.8029058161755729\n",
      "Accuracy: 80.56%\n",
      "LogLoss : 0.8507220750626487\n"
     ]
    }
   ],
   "source": [
    "from sklearn.linear_model import LogisticRegression\n",
    "lg = LogisticRegression(random_state=seed).fit(X_train, y_train)\n",
    "predictions = lg.predict(X_test)\n",
    "prob_predict = lg.predict_proba(X_test)\n",
    "metrics_classific(y_test,predictions,prob_predict, X_test)"
   ]
  },
  {
   "cell_type": "code",
   "execution_count": null,
   "metadata": {},
   "outputs": [],
   "source": []
  },
  {
   "cell_type": "markdown",
   "metadata": {
    "heading_collapsed": true
   },
   "source": [
    "# Perceptron"
   ]
  },
  {
   "cell_type": "code",
   "execution_count": 22,
   "metadata": {
    "hidden": true
   },
   "outputs": [],
   "source": [
    "shape = y_train.shape\n",
    "y_orig = y_train.reshape(shape[0],1)\n",
    "\n",
    "from sklearn.preprocessing import OneHotEncoder\n",
    "oneHot = OneHotEncoder()\n",
    "oneHot.fit(y_orig) \n",
    "data_y = oneHot.transform(y_orig).toarray()"
   ]
  },
  {
   "cell_type": "code",
   "execution_count": 23,
   "metadata": {
    "hidden": true
   },
   "outputs": [],
   "source": [
    "shape = y_test.shape\n",
    "y_test_orig = y_test.reshape(shape[0],1)\n",
    "\n",
    "from sklearn.preprocessing import OneHotEncoder\n",
    "oneHot = OneHotEncoder()\n",
    "oneHot.fit(y_test_orig) \n",
    "test_y = oneHot.transform(y_test_orig).toarray() "
   ]
  },
  {
   "cell_type": "code",
   "execution_count": 24,
   "metadata": {
    "hidden": true
   },
   "outputs": [
    {
     "data": {
      "text/plain": [
       "((7236, 12288), (7236, 2))"
      ]
     },
     "execution_count": 24,
     "metadata": {},
     "output_type": "execute_result"
    }
   ],
   "source": [
    "data_x = X_train \n",
    "data_x.shape, data_y.shape"
   ]
  },
  {
   "cell_type": "markdown",
   "metadata": {
    "hidden": true
   },
   "source": [
    "## model parameters"
   ]
  },
  {
   "cell_type": "code",
   "execution_count": 25,
   "metadata": {
    "hidden": true
   },
   "outputs": [],
   "source": [
    "#Input pretrained parameters\n",
    "W = pd.read_csv('weights.csv',header=None).values\n",
    "b = pd.read_csv('bias.csv',header=None).values\n",
    "\n",
    "W = tf.Variable(tf.convert_to_tensor(W, dtype=tf.float32))\n",
    "b = tf.Variable(tf.convert_to_tensor(b, dtype=tf.float32))"
   ]
  },
  {
   "cell_type": "code",
   "execution_count": 29,
   "metadata": {
    "hidden": true
   },
   "outputs": [],
   "source": [
    "learning_rate = 0.02\n",
    "L2 =0.0001 #regulization\n",
    "n_epochs = 9000\n",
    "\n",
    "num_features = data_x.shape[1]\n",
    "num_classes = data_y.shape[1]\n",
    "\n",
    "X_hold = tf.placeholder(tf.float32, [None, num_features]) \n",
    "Y_hold = tf.placeholder(tf.float32, [None,num_classes])\n",
    "\n",
    "##random weights\n",
    "#W = tf.Variable(tf.truncated_normal([num_features, num_classes], stddev=0.1))\n",
    "\n",
    "##specific weights\n",
    "#Initial_W = pd.read_csv('Initial_W.csv',header=None).values\n",
    "#W = tf.Variable(tf.convert_to_tensor(Initial_W, dtype=tf.float32))\n",
    "\n",
    "b = tf.Variable(tf.constant(0.1, shape=[num_classes]))\n",
    "\n",
    "Z = tf.matmul(X_hold,W) + b\n",
    "logit = tf.sigmoid(Z)\n",
    "\n",
    "## Cost function\n",
    "loss = tf.reduce_mean(tf.nn.sigmoid_cross_entropy_with_logits(labels=Y_hold, logits=logit)+ L2*tf.nn.l2_loss(W))\n",
    "#loss = tf.reduce_mean(-tf.reduce_sum(Y_hold * tf.log(logit), reduction_indices=[0]))\n",
    "#logloss = Y_hold * -tf.log(logit) + (1 - Y_hold) * tf.log(1 - logit)\n",
    "\n",
    "#Optimizator\n",
    "optimizator = tf.train.GradientDescentOptimizer(learning_rate=learning_rate).minimize(loss) #Gradient Descent\n",
    "#optimizator = tf.train.AdamOptimizer(learning_rate).minimize(loss) # Adam  \n",
    "\n",
    "train_acc = []\n",
    "test_acc = []\n",
    "losses = []\n",
    "aucs = []\n",
    "# Define the accuracy\n",
    "prediction = tf.round(logit)\n",
    "# Bool into float32 type\n",
    "correct = tf.cast(tf.equal(prediction, Y_hold), dtype=tf.float32)\n",
    "# Average\n",
    "accuracy = tf.reduce_mean(correct)"
   ]
  },
  {
   "cell_type": "markdown",
   "metadata": {
    "hidden": true
   },
   "source": [
    "## Initial session"
   ]
  },
  {
   "cell_type": "code",
   "execution_count": 30,
   "metadata": {
    "hidden": true
   },
   "outputs": [
    {
     "name": "stdout",
     "output_type": "stream",
     "text": [
      "0 th Epoch Train AUC: 0.6628 Loss: 0.6397\n",
      "100 th Epoch Train AUC: 0.6376 Loss: 0.6490\n",
      "200 th Epoch Train AUC: 0.6682 Loss: 0.6377\n",
      "300 th Epoch Train AUC: 0.6641 Loss: 0.6391\n",
      "400 th Epoch Train AUC: 0.6689 Loss: 0.6374\n",
      "500 th Epoch Train AUC: 0.6702 Loss: 0.6370\n",
      "600 th Epoch Train AUC: 0.6703 Loss: 0.6370\n",
      "700 th Epoch Train AUC: 0.6632 Loss: 0.6394\n",
      "800 th Epoch Train AUC: 0.6558 Loss: 0.6421\n",
      "900 th Epoch Train AUC: 0.6601 Loss: 0.6405\n",
      "1000 th Epoch Train AUC: 0.6705 Loss: 0.6369\n",
      "1100 th Epoch Train AUC: 0.6454 Loss: 0.6459\n",
      "1200 th Epoch Train AUC: 0.6713 Loss: 0.6364\n",
      "1300 th Epoch Train AUC: 0.6711 Loss: 0.6366\n",
      "1400 th Epoch Train AUC: 0.6714 Loss: 0.6363\n",
      "1500 th Epoch Train AUC: 0.6249 Loss: 0.6537\n",
      "1600 th Epoch Train AUC: 0.6556 Loss: 0.6422\n",
      "1700 th Epoch Train AUC: 0.6329 Loss: 0.6506\n",
      "1800 th Epoch Train AUC: 0.6717 Loss: 0.6361\n",
      "1900 th Epoch Train AUC: 0.6596 Loss: 0.6407\n",
      "2000 th Epoch Train AUC: 0.6721 Loss: 0.6361\n",
      "2100 th Epoch Train AUC: 0.6722 Loss: 0.6360\n",
      "2200 th Epoch Train AUC: 0.6698 Loss: 0.6376\n",
      "2300 th Epoch Train AUC: 0.6602 Loss: 0.6404\n",
      "2400 th Epoch Train AUC: 0.6702 Loss: 0.6374\n",
      "2500 th Epoch Train AUC: 0.6579 Loss: 0.6412\n",
      "2600 th Epoch Train AUC: 0.6727 Loss: 0.6357\n",
      "2700 th Epoch Train AUC: 0.6726 Loss: 0.6358\n",
      "2800 th Epoch Train AUC: 0.6341 Loss: 0.6501\n",
      "2900 th Epoch Train AUC: 0.6729 Loss: 0.6356\n",
      "3000 th Epoch Train AUC: 0.6717 Loss: 0.6360\n",
      "3100 th Epoch Train AUC: 0.6119 Loss: 0.6586\n",
      "3200 th Epoch Train AUC: 0.6730 Loss: 0.6356\n",
      "3300 th Epoch Train AUC: 0.6663 Loss: 0.6396\n",
      "3400 th Epoch Train AUC: 0.6733 Loss: 0.6355\n",
      "3500 th Epoch Train AUC: 0.6733 Loss: 0.6354\n",
      "3600 th Epoch Train AUC: 0.6733 Loss: 0.6354\n",
      "3700 th Epoch Train AUC: 0.6733 Loss: 0.6354\n",
      "3800 th Epoch Train AUC: 0.6733 Loss: 0.6354\n",
      "3900 th Epoch Train AUC: 0.6733 Loss: 0.6354\n",
      "4000 th Epoch Train AUC: 0.6734 Loss: 0.6354\n",
      "4100 th Epoch Train AUC: 0.6733 Loss: 0.6354\n"
     ]
    },
    {
     "ename": "KeyboardInterrupt",
     "evalue": "",
     "output_type": "error",
     "traceback": [
      "\u001b[1;31m---------------------------------------------------------------------------\u001b[0m",
      "\u001b[1;31mKeyboardInterrupt\u001b[0m                         Traceback (most recent call last)",
      "\u001b[1;32m<timed exec>\u001b[0m in \u001b[0;36m<module>\u001b[1;34m\u001b[0m\n",
      "\u001b[1;32m~\\anaconda3\\envs\\tensorflow1\\lib\\site-packages\\tensorflow_core\\python\\client\\session.py\u001b[0m in \u001b[0;36mrun\u001b[1;34m(self, fetches, feed_dict, options, run_metadata)\u001b[0m\n\u001b[0;32m    954\u001b[0m     \u001b[1;32mtry\u001b[0m\u001b[1;33m:\u001b[0m\u001b[1;33m\u001b[0m\u001b[1;33m\u001b[0m\u001b[0m\n\u001b[0;32m    955\u001b[0m       result = self._run(None, fetches, feed_dict, options_ptr,\n\u001b[1;32m--> 956\u001b[1;33m                          run_metadata_ptr)\n\u001b[0m\u001b[0;32m    957\u001b[0m       \u001b[1;32mif\u001b[0m \u001b[0mrun_metadata\u001b[0m\u001b[1;33m:\u001b[0m\u001b[1;33m\u001b[0m\u001b[1;33m\u001b[0m\u001b[0m\n\u001b[0;32m    958\u001b[0m         \u001b[0mproto_data\u001b[0m \u001b[1;33m=\u001b[0m \u001b[0mtf_session\u001b[0m\u001b[1;33m.\u001b[0m\u001b[0mTF_GetBuffer\u001b[0m\u001b[1;33m(\u001b[0m\u001b[0mrun_metadata_ptr\u001b[0m\u001b[1;33m)\u001b[0m\u001b[1;33m\u001b[0m\u001b[1;33m\u001b[0m\u001b[0m\n",
      "\u001b[1;32m~\\anaconda3\\envs\\tensorflow1\\lib\\site-packages\\tensorflow_core\\python\\client\\session.py\u001b[0m in \u001b[0;36m_run\u001b[1;34m(self, handle, fetches, feed_dict, options, run_metadata)\u001b[0m\n\u001b[0;32m   1147\u001b[0m             \u001b[0mfeed_handles\u001b[0m\u001b[1;33m[\u001b[0m\u001b[0msubfeed_t\u001b[0m\u001b[1;33m]\u001b[0m \u001b[1;33m=\u001b[0m \u001b[0msubfeed_val\u001b[0m\u001b[1;33m\u001b[0m\u001b[1;33m\u001b[0m\u001b[0m\n\u001b[0;32m   1148\u001b[0m           \u001b[1;32melse\u001b[0m\u001b[1;33m:\u001b[0m\u001b[1;33m\u001b[0m\u001b[1;33m\u001b[0m\u001b[0m\n\u001b[1;32m-> 1149\u001b[1;33m             \u001b[0mnp_val\u001b[0m \u001b[1;33m=\u001b[0m \u001b[0mnp\u001b[0m\u001b[1;33m.\u001b[0m\u001b[0masarray\u001b[0m\u001b[1;33m(\u001b[0m\u001b[0msubfeed_val\u001b[0m\u001b[1;33m,\u001b[0m \u001b[0mdtype\u001b[0m\u001b[1;33m=\u001b[0m\u001b[0msubfeed_dtype\u001b[0m\u001b[1;33m)\u001b[0m\u001b[1;33m\u001b[0m\u001b[1;33m\u001b[0m\u001b[0m\n\u001b[0m\u001b[0;32m   1150\u001b[0m \u001b[1;33m\u001b[0m\u001b[0m\n\u001b[0;32m   1151\u001b[0m           if (not is_tensor_handle_feed and\n",
      "\u001b[1;32m~\\anaconda3\\envs\\tensorflow1\\lib\\site-packages\\numpy\\core\\_asarray.py\u001b[0m in \u001b[0;36masarray\u001b[1;34m(a, dtype, order)\u001b[0m\n\u001b[0;32m     81\u001b[0m \u001b[1;33m\u001b[0m\u001b[0m\n\u001b[0;32m     82\u001b[0m     \"\"\"\n\u001b[1;32m---> 83\u001b[1;33m     \u001b[1;32mreturn\u001b[0m \u001b[0marray\u001b[0m\u001b[1;33m(\u001b[0m\u001b[0ma\u001b[0m\u001b[1;33m,\u001b[0m \u001b[0mdtype\u001b[0m\u001b[1;33m,\u001b[0m \u001b[0mcopy\u001b[0m\u001b[1;33m=\u001b[0m\u001b[1;32mFalse\u001b[0m\u001b[1;33m,\u001b[0m \u001b[0morder\u001b[0m\u001b[1;33m=\u001b[0m\u001b[0morder\u001b[0m\u001b[1;33m)\u001b[0m\u001b[1;33m\u001b[0m\u001b[1;33m\u001b[0m\u001b[0m\n\u001b[0m\u001b[0;32m     84\u001b[0m \u001b[1;33m\u001b[0m\u001b[0m\n\u001b[0;32m     85\u001b[0m \u001b[1;33m\u001b[0m\u001b[0m\n",
      "\u001b[1;31mKeyboardInterrupt\u001b[0m: "
     ]
    }
   ],
   "source": [
    "%%time\n",
    "##Initial session\n",
    "saver = tf.train.Saver()\n",
    "\n",
    "with tf.Session() as sess:\n",
    "    # Initialize the variables\n",
    "    sess.run(tf.global_variables_initializer())\n",
    "    #save initial weights\n",
    "    Initial_W = sess.run(W)\n",
    "    \n",
    "    # Gradient descent\n",
    "    for i in range(0,n_epochs):\n",
    "        _, iloss, y_hat, temp_train_acc =  sess.run([optimizator, loss, prediction, accuracy], {X_hold:data_x, Y_hold:data_y})\n",
    "        temp_test_acc = sess.run(accuracy, feed_dict={X_hold:X_test, Y_hold:test_y})\n",
    "        if i%100==0:\n",
    "            train_acc.append(temp_train_acc)\n",
    "            test_acc.append(temp_test_acc)\n",
    "            losses.append(iloss)\n",
    "            aucs.append(roc_auc_score(data_y, y_hat))\n",
    "        if i%100==0:\n",
    "            print('%i th Epoch Train AUC: %.4f Loss: %.4f' % (i, roc_auc_score(data_y, y_hat), iloss))\n",
    "     \n",
    "    # Calculate test auc\n",
    "    prob_predictions = sess.run(Z, feed_dict={X_hold:X_test})\n",
    "    weights = sess.run(W)\n",
    "    bias = sess.run(b)\n",
    "    saver.save(sess, 'example_long')"
   ]
  },
  {
   "cell_type": "code",
   "execution_count": 31,
   "metadata": {
    "hidden": true,
    "scrolled": true
   },
   "outputs": [
    {
     "name": "stdout",
     "output_type": "stream",
     "text": [
      "[[ 158  910]\n",
      " [  46 1273]]\n",
      "              precision    recall  f1-score   support\n",
      "\n",
      "         0.0       0.77      0.15      0.25      1068\n",
      "         1.0       0.58      0.97      0.73      1319\n",
      "\n",
      "    accuracy                           0.60      2387\n",
      "   macro avg       0.68      0.56      0.49      2387\n",
      "weighted avg       0.67      0.60      0.51      2387\n",
      "\n",
      "Validation ROC-AUC score: 0.5565325848375656\n",
      "Validation AUC score:     0.5565325848375656\n",
      "Accuracy: 59.95%\n",
      "LogLoss : 2.766396620262853\n"
     ]
    }
   ],
   "source": [
    "tensor_predictions = predictor(prob_predictions)\n",
    "metrics_classific(y_test,tensor_predictions,prob_predictions, X_test)"
   ]
  },
  {
   "cell_type": "code",
   "execution_count": 32,
   "metadata": {
    "hidden": true
   },
   "outputs": [
    {
     "ename": "ValueError",
     "evalue": "x and y must have same first dimension, but have shapes (90,) and (42,)",
     "output_type": "error",
     "traceback": [
      "\u001b[1;31m---------------------------------------------------------------------------\u001b[0m",
      "\u001b[1;31mValueError\u001b[0m                                Traceback (most recent call last)",
      "\u001b[1;32m<ipython-input-32-1aea62006c44>\u001b[0m in \u001b[0;36m<module>\u001b[1;34m\u001b[0m\n\u001b[1;32m----> 1\u001b[1;33m \u001b[0mplt\u001b[0m\u001b[1;33m.\u001b[0m\u001b[0mplot\u001b[0m\u001b[1;33m(\u001b[0m\u001b[0mrange\u001b[0m\u001b[1;33m(\u001b[0m\u001b[0mn_epochs\u001b[0m\u001b[1;33m//\u001b[0m\u001b[1;36m100\u001b[0m\u001b[1;33m)\u001b[0m\u001b[1;33m,\u001b[0m \u001b[0mlosses\u001b[0m\u001b[1;33m)\u001b[0m\u001b[1;33m\u001b[0m\u001b[1;33m\u001b[0m\u001b[0m\n\u001b[0m\u001b[0;32m      2\u001b[0m \u001b[0mplt\u001b[0m\u001b[1;33m.\u001b[0m\u001b[0mtitle\u001b[0m\u001b[1;33m(\u001b[0m\u001b[1;34m'Loss'\u001b[0m\u001b[1;33m)\u001b[0m\u001b[1;33m\u001b[0m\u001b[1;33m\u001b[0m\u001b[0m\n\u001b[0;32m      3\u001b[0m \u001b[0mplt\u001b[0m\u001b[1;33m.\u001b[0m\u001b[0mxlabel\u001b[0m\u001b[1;33m(\u001b[0m\u001b[1;34m'Iteration'\u001b[0m\u001b[1;33m)\u001b[0m\u001b[1;33m\u001b[0m\u001b[1;33m\u001b[0m\u001b[0m\n\u001b[0;32m      4\u001b[0m \u001b[0m_\u001b[0m \u001b[1;33m=\u001b[0m \u001b[0mplt\u001b[0m\u001b[1;33m.\u001b[0m\u001b[0mylabel\u001b[0m\u001b[1;33m(\u001b[0m\u001b[1;34m'RMSE'\u001b[0m\u001b[1;33m)\u001b[0m\u001b[1;33m\u001b[0m\u001b[1;33m\u001b[0m\u001b[0m\n",
      "\u001b[1;32m~\\anaconda3\\envs\\tensorflow1\\lib\\site-packages\\matplotlib\\pyplot.py\u001b[0m in \u001b[0;36mplot\u001b[1;34m(scalex, scaley, data, *args, **kwargs)\u001b[0m\n\u001b[0;32m   2840\u001b[0m     return gca().plot(\n\u001b[0;32m   2841\u001b[0m         \u001b[1;33m*\u001b[0m\u001b[0margs\u001b[0m\u001b[1;33m,\u001b[0m \u001b[0mscalex\u001b[0m\u001b[1;33m=\u001b[0m\u001b[0mscalex\u001b[0m\u001b[1;33m,\u001b[0m \u001b[0mscaley\u001b[0m\u001b[1;33m=\u001b[0m\u001b[0mscaley\u001b[0m\u001b[1;33m,\u001b[0m\u001b[1;33m\u001b[0m\u001b[1;33m\u001b[0m\u001b[0m\n\u001b[1;32m-> 2842\u001b[1;33m         **({\"data\": data} if data is not None else {}), **kwargs)\n\u001b[0m\u001b[0;32m   2843\u001b[0m \u001b[1;33m\u001b[0m\u001b[0m\n\u001b[0;32m   2844\u001b[0m \u001b[1;33m\u001b[0m\u001b[0m\n",
      "\u001b[1;32m~\\anaconda3\\envs\\tensorflow1\\lib\\site-packages\\matplotlib\\axes\\_axes.py\u001b[0m in \u001b[0;36mplot\u001b[1;34m(self, scalex, scaley, data, *args, **kwargs)\u001b[0m\n\u001b[0;32m   1741\u001b[0m         \"\"\"\n\u001b[0;32m   1742\u001b[0m         \u001b[0mkwargs\u001b[0m \u001b[1;33m=\u001b[0m \u001b[0mcbook\u001b[0m\u001b[1;33m.\u001b[0m\u001b[0mnormalize_kwargs\u001b[0m\u001b[1;33m(\u001b[0m\u001b[0mkwargs\u001b[0m\u001b[1;33m,\u001b[0m \u001b[0mmlines\u001b[0m\u001b[1;33m.\u001b[0m\u001b[0mLine2D\u001b[0m\u001b[1;33m)\u001b[0m\u001b[1;33m\u001b[0m\u001b[1;33m\u001b[0m\u001b[0m\n\u001b[1;32m-> 1743\u001b[1;33m         \u001b[0mlines\u001b[0m \u001b[1;33m=\u001b[0m \u001b[1;33m[\u001b[0m\u001b[1;33m*\u001b[0m\u001b[0mself\u001b[0m\u001b[1;33m.\u001b[0m\u001b[0m_get_lines\u001b[0m\u001b[1;33m(\u001b[0m\u001b[1;33m*\u001b[0m\u001b[0margs\u001b[0m\u001b[1;33m,\u001b[0m \u001b[0mdata\u001b[0m\u001b[1;33m=\u001b[0m\u001b[0mdata\u001b[0m\u001b[1;33m,\u001b[0m \u001b[1;33m**\u001b[0m\u001b[0mkwargs\u001b[0m\u001b[1;33m)\u001b[0m\u001b[1;33m]\u001b[0m\u001b[1;33m\u001b[0m\u001b[1;33m\u001b[0m\u001b[0m\n\u001b[0m\u001b[0;32m   1744\u001b[0m         \u001b[1;32mfor\u001b[0m \u001b[0mline\u001b[0m \u001b[1;32min\u001b[0m \u001b[0mlines\u001b[0m\u001b[1;33m:\u001b[0m\u001b[1;33m\u001b[0m\u001b[1;33m\u001b[0m\u001b[0m\n\u001b[0;32m   1745\u001b[0m             \u001b[0mself\u001b[0m\u001b[1;33m.\u001b[0m\u001b[0madd_line\u001b[0m\u001b[1;33m(\u001b[0m\u001b[0mline\u001b[0m\u001b[1;33m)\u001b[0m\u001b[1;33m\u001b[0m\u001b[1;33m\u001b[0m\u001b[0m\n",
      "\u001b[1;32m~\\anaconda3\\envs\\tensorflow1\\lib\\site-packages\\matplotlib\\axes\\_base.py\u001b[0m in \u001b[0;36m__call__\u001b[1;34m(self, data, *args, **kwargs)\u001b[0m\n\u001b[0;32m    271\u001b[0m                 \u001b[0mthis\u001b[0m \u001b[1;33m+=\u001b[0m \u001b[0margs\u001b[0m\u001b[1;33m[\u001b[0m\u001b[1;36m0\u001b[0m\u001b[1;33m]\u001b[0m\u001b[1;33m,\u001b[0m\u001b[1;33m\u001b[0m\u001b[1;33m\u001b[0m\u001b[0m\n\u001b[0;32m    272\u001b[0m                 \u001b[0margs\u001b[0m \u001b[1;33m=\u001b[0m \u001b[0margs\u001b[0m\u001b[1;33m[\u001b[0m\u001b[1;36m1\u001b[0m\u001b[1;33m:\u001b[0m\u001b[1;33m]\u001b[0m\u001b[1;33m\u001b[0m\u001b[1;33m\u001b[0m\u001b[0m\n\u001b[1;32m--> 273\u001b[1;33m             \u001b[1;32myield\u001b[0m \u001b[1;32mfrom\u001b[0m \u001b[0mself\u001b[0m\u001b[1;33m.\u001b[0m\u001b[0m_plot_args\u001b[0m\u001b[1;33m(\u001b[0m\u001b[0mthis\u001b[0m\u001b[1;33m,\u001b[0m \u001b[0mkwargs\u001b[0m\u001b[1;33m)\u001b[0m\u001b[1;33m\u001b[0m\u001b[1;33m\u001b[0m\u001b[0m\n\u001b[0m\u001b[0;32m    274\u001b[0m \u001b[1;33m\u001b[0m\u001b[0m\n\u001b[0;32m    275\u001b[0m     \u001b[1;32mdef\u001b[0m \u001b[0mget_next_color\u001b[0m\u001b[1;33m(\u001b[0m\u001b[0mself\u001b[0m\u001b[1;33m)\u001b[0m\u001b[1;33m:\u001b[0m\u001b[1;33m\u001b[0m\u001b[1;33m\u001b[0m\u001b[0m\n",
      "\u001b[1;32m~\\anaconda3\\envs\\tensorflow1\\lib\\site-packages\\matplotlib\\axes\\_base.py\u001b[0m in \u001b[0;36m_plot_args\u001b[1;34m(self, tup, kwargs)\u001b[0m\n\u001b[0;32m    397\u001b[0m \u001b[1;33m\u001b[0m\u001b[0m\n\u001b[0;32m    398\u001b[0m         \u001b[1;32mif\u001b[0m \u001b[0mx\u001b[0m\u001b[1;33m.\u001b[0m\u001b[0mshape\u001b[0m\u001b[1;33m[\u001b[0m\u001b[1;36m0\u001b[0m\u001b[1;33m]\u001b[0m \u001b[1;33m!=\u001b[0m \u001b[0my\u001b[0m\u001b[1;33m.\u001b[0m\u001b[0mshape\u001b[0m\u001b[1;33m[\u001b[0m\u001b[1;36m0\u001b[0m\u001b[1;33m]\u001b[0m\u001b[1;33m:\u001b[0m\u001b[1;33m\u001b[0m\u001b[1;33m\u001b[0m\u001b[0m\n\u001b[1;32m--> 399\u001b[1;33m             raise ValueError(f\"x and y must have same first dimension, but \"\n\u001b[0m\u001b[0;32m    400\u001b[0m                              f\"have shapes {x.shape} and {y.shape}\")\n\u001b[0;32m    401\u001b[0m         \u001b[1;32mif\u001b[0m \u001b[0mx\u001b[0m\u001b[1;33m.\u001b[0m\u001b[0mndim\u001b[0m \u001b[1;33m>\u001b[0m \u001b[1;36m2\u001b[0m \u001b[1;32mor\u001b[0m \u001b[0my\u001b[0m\u001b[1;33m.\u001b[0m\u001b[0mndim\u001b[0m \u001b[1;33m>\u001b[0m \u001b[1;36m2\u001b[0m\u001b[1;33m:\u001b[0m\u001b[1;33m\u001b[0m\u001b[1;33m\u001b[0m\u001b[0m\n",
      "\u001b[1;31mValueError\u001b[0m: x and y must have same first dimension, but have shapes (90,) and (42,)"
     ]
    },
    {
     "data": {
      "image/png": "[encoded data removed]",
      "text/plain": [
       "<Figure size 432x288 with 1 Axes>"
      ]
     },
     "metadata": {
      "needs_background": "light"
     },
     "output_type": "display_data"
    }
   ],
   "source": [
    "plt.plot(range(n_epochs//100), losses)\n",
    "plt.title('Loss')\n",
    "plt.xlabel('Iteration')\n",
    "_ = plt.ylabel('RMSE') "
   ]
  },
  {
   "cell_type": "code",
   "execution_count": null,
   "metadata": {
    "hidden": true
   },
   "outputs": [],
   "source": [
    " plt.plot(range(800//100), aucs)\n",
    "plt.title('AUC')\n",
    "plt.xlabel('Iteration')\n",
    "_ = plt.ylabel('AUC Score') "
   ]
  },
  {
   "cell_type": "code",
   "execution_count": 74,
   "metadata": {
    "hidden": true
   },
   "outputs": [
    {
     "name": "stdout",
     "output_type": "stream",
     "text": [
      "train accuracy : 0.66450274\n",
      "test accuracy : 0.6276685\n"
     ]
    },
    {
     "data": {
      "image/png": "[encoded data removed]",
      "text/plain": [
       "<Figure size 432x288 with 1 Axes>"
      ]
     },
     "metadata": {
      "needs_background": "light"
     },
     "output_type": "display_data"
    }
   ],
   "source": [
    "##learning_rate = 0.1\n",
    "# accuracy\n",
    "plt.plot(train_acc, 'b-', label='train accuracy')\n",
    "plt.plot(test_acc, 'k-', label='test accuracy')\n",
    "plt.xlabel('epoch')\n",
    "plt.ylabel('accuracy')\n",
    "plt.title('Train and Test Accuracy')\n",
    "plt.legend(loc='best')\n",
    "print(\"train accuracy :\",train_acc[-1] )\n",
    "print(\"test accuracy :\",test_acc[-1] )\n",
    "plt.show()"
   ]
  },
  {
   "cell_type": "code",
   "execution_count": 75,
   "metadata": {
    "hidden": true
   },
   "outputs": [
    {
     "data": {
      "text/plain": [
       "0.6377145"
      ]
     },
     "execution_count": 75,
     "metadata": {},
     "output_type": "execute_result"
    }
   ],
   "source": [
    "max(test_acc)"
   ]
  },
  {
   "cell_type": "markdown",
   "metadata": {
    "hidden": true
   },
   "source": [
    "## restored session 1"
   ]
  },
  {
   "cell_type": "code",
   "execution_count": null,
   "metadata": {
    "hidden": true
   },
   "outputs": [],
   "source": []
  },
  {
   "cell_type": "code",
   "execution_count": 76,
   "metadata": {
    "hidden": true
   },
   "outputs": [
    {
     "name": "stdout",
     "output_type": "stream",
     "text": [
      "INFO:tensorflow:Restoring parameters from ./example_long\n",
      "0 th Epoch Train AUC: 0.6545 Loss: 0.6430\n",
      "100 th Epoch Train AUC: 0.6519 Loss: 0.6435\n",
      "Wall time: 2min\n"
     ]
    }
   ],
   "source": [
    "%%time\n",
    "##restored session\n",
    "with tf.Session() as sess:\n",
    "    new_saver = tf.train.import_meta_graph('example_long.meta')\n",
    "    sess.run(tf.global_variables_initializer())\n",
    "    new_saver.restore(sess,tf.train.latest_checkpoint('./'))\n",
    "     \n",
    "    # Gradient descent\n",
    "    for i in range(0,200):\n",
    "        _, iloss, y_hat, temp_train_acc =  sess.run([optimizator, loss, prediction, accuracy], {X_hold:data_x, Y_hold:data_y})\n",
    "        temp_test_acc = sess.run(accuracy, feed_dict={X_hold:X_test, Y_hold:test_y})\n",
    "        if i%100==0:\n",
    "            train_acc.append(temp_train_acc)\n",
    "            test_acc.append(temp_test_acc)\n",
    "            losses.append(iloss)\n",
    "            aucs.append(roc_auc_score(data_y, y_hat))\n",
    "        if i%100==0:\n",
    "            print('%i th Epoch Train AUC: %.4f Loss: %.4f' % (i, roc_auc_score(data_y, y_hat), iloss))\n",
    "    \n",
    "    \n",
    "    # Calculate test auc\n",
    "    prob_predictions = sess.run(Z, feed_dict={X_hold:X_test})\n",
    "    \n",
    "    weights = sess.run(W)\n",
    "    bias = sess.run(b)\n",
    "    #new_saver.save(sess, 'example2')   "
   ]
  },
  {
   "cell_type": "code",
   "execution_count": 77,
   "metadata": {
    "hidden": true
   },
   "outputs": [
    {
     "name": "stdout",
     "output_type": "stream",
     "text": [
      "[[ 186  888]\n",
      " [  60 1255]]\n",
      "              precision    recall  f1-score   support\n",
      "\n",
      "         0.0       0.76      0.17      0.28      1074\n",
      "         1.0       0.59      0.95      0.73      1315\n",
      "\n",
      "    accuracy                           0.60      2389\n",
      "   macro avg       0.67      0.56      0.50      2389\n",
      "weighted avg       0.66      0.60      0.53      2389\n",
      "\n",
      "Validation ROC-AUC score: 0.563778490558022\n",
      "Validation AUC score:     0.563778490558022\n",
      "Accuracy: 60.32%\n",
      "LogLoss : 2.6410546228196043\n"
     ]
    }
   ],
   "source": [
    "tensor_predictions = predictor(prob_predictions)\n",
    "metrics_classific(y_test,tensor_predictions,prob_predictions, X_test)"
   ]
  },
  {
   "cell_type": "code",
   "execution_count": 78,
   "metadata": {
    "hidden": true
   },
   "outputs": [
    {
     "data": {
      "image/png": "[encoded data removed]",
      "text/plain": [
       "<Figure size 432x288 with 1 Axes>"
      ]
     },
     "metadata": {
      "needs_background": "light"
     },
     "output_type": "display_data"
    }
   ],
   "source": [
    " plt.plot(range(len(losses)), losses)\n",
    "plt.title('Loss')\n",
    "plt.xlabel('Iteration')\n",
    "_ = plt.ylabel('RMSE') "
   ]
  },
  {
   "cell_type": "code",
   "execution_count": 79,
   "metadata": {
    "hidden": true
   },
   "outputs": [
    {
     "name": "stdout",
     "output_type": "stream",
     "text": [
      "train accuracy : 0.66450274\n",
      "test accuracy : 0.6276685\n"
     ]
    },
    {
     "data": {
      "image/png": "[encoded data removed]",
      "text/plain": [
       "<Figure size 432x288 with 1 Axes>"
      ]
     },
     "metadata": {
      "needs_background": "light"
     },
     "output_type": "display_data"
    }
   ],
   "source": [
    "# accuracy\n",
    "plt.plot(train_acc, 'b-', label='train accuracy')\n",
    "plt.plot(test_acc, 'k-', label='test accuracy')\n",
    "plt.xlabel('epoch')\n",
    "plt.ylabel('accuracy')\n",
    "plt.title('Train and Test Accuracy')\n",
    "plt.legend(loc='best')\n",
    "print(\"train accuracy :\",train_acc[-1] )\n",
    "print(\"test accuracy :\",test_acc[-1] )\n",
    "plt.show()"
   ]
  },
  {
   "cell_type": "markdown",
   "metadata": {
    "hidden": true
   },
   "source": [
    "## Save model"
   ]
  },
  {
   "cell_type": "code",
   "execution_count": 80,
   "metadata": {
    "hidden": true
   },
   "outputs": [],
   "source": [
    "#Save model\n",
    "from numpy import loadtxt\n",
    "np.savetxt('Initial_W.csv', Initial_W, delimiter=',')\n",
    "np.savetxt('weights.csv', weights, delimiter=',')\n",
    "np.savetxt('bias.csv', bias, delimiter=',')"
   ]
  },
  {
   "cell_type": "markdown",
   "metadata": {},
   "source": [
    "# Model validation"
   ]
  },
  {
   "cell_type": "code",
   "execution_count": 81,
   "metadata": {},
   "outputs": [],
   "source": [
    "#Load model\n",
    "weights = pd.read_csv('weights.csv',header=None).values\n",
    "bias = pd.read_csv('bias.csv',header=None).values"
   ]
  },
  {
   "cell_type": "code",
   "execution_count": 82,
   "metadata": {},
   "outputs": [],
   "source": [
    "#check test matrics\n",
    "test_predict = np.dot(np.array(X_test),weights)\n",
    "new_test_predict = np.zeros(shape=(test_predict.shape))\n",
    "for i in range(len(test_predict)):\n",
    "    new_test_predict[i] = [test_predict[i][0]+bias[0], test_predict[i][1]+bias[1]]\n",
    "valudate_predictions = predictor(new_test_predict)"
   ]
  },
  {
   "cell_type": "code",
   "execution_count": 83,
   "metadata": {},
   "outputs": [
    {
     "name": "stdout",
     "output_type": "stream",
     "text": [
      "[[ 186  888]\n",
      " [  60 1255]]\n",
      "              precision    recall  f1-score   support\n",
      "\n",
      "         0.0       0.76      0.17      0.28      1074\n",
      "         1.0       0.59      0.95      0.73      1315\n",
      "\n",
      "    accuracy                           0.60      2389\n",
      "   macro avg       0.67      0.56      0.50      2389\n",
      "weighted avg       0.66      0.60      0.53      2389\n",
      "\n",
      "Validation ROC-AUC score: 0.563778490558022\n",
      "Validation AUC score:     0.563778490558022\n",
      "Accuracy: 60.32%\n",
      "LogLoss : 2.70339226761092\n"
     ]
    }
   ],
   "source": [
    "metrics_classific(y_test,valudate_predictions,sigmoid(new_test_predict), X_test)  "
   ]
  },
  {
   "cell_type": "code",
   "execution_count": 84,
   "metadata": {},
   "outputs": [
    {
     "data": {
      "text/plain": [
       "(2389, 2)"
      ]
     },
     "execution_count": 84,
     "metadata": {},
     "output_type": "execute_result"
    }
   ],
   "source": [
    "sigmoid(new_test_predict).shape"
   ]
  },
  {
   "cell_type": "code",
   "execution_count": 85,
   "metadata": {},
   "outputs": [
    {
     "data": {
      "text/plain": [
       "(1177, 12288)"
      ]
     },
     "execution_count": 85,
     "metadata": {},
     "output_type": "execute_result"
    }
   ],
   "source": [
    "X_validate.shape"
   ]
  },
  {
   "cell_type": "code",
   "execution_count": 86,
   "metadata": {},
   "outputs": [
    {
     "name": "stdout",
     "output_type": "stream",
     "text": [
      "[[ 99 446]\n",
      " [ 25 607]]\n",
      "              precision    recall  f1-score   support\n",
      "\n",
      "         0.0       0.80      0.18      0.30       545\n",
      "         1.0       0.58      0.96      0.72       632\n",
      "\n",
      "    accuracy                           0.60      1177\n",
      "   macro avg       0.69      0.57      0.51      1177\n",
      "weighted avg       0.68      0.60      0.52      1177\n",
      "\n",
      "Validation ROC-AUC score: 0.5710472070607363\n",
      "Validation AUC score:     0.5710472070607363\n",
      "Accuracy: 59.98%\n",
      "LogLoss : 2.70339226761092\n"
     ]
    }
   ],
   "source": [
    "#Model validation\n",
    "val_predict = np.dot(np.array(X_validate),weights)\n",
    "new_val_predict = np.zeros(shape=(val_predict.shape))\n",
    "for i in range(len(val_predict)):\n",
    "    new_val_predict[i] = [val_predict[i][0]+bias[0], val_predict[i][1]+bias[1]]\n",
    "\n",
    "valudate_predictions = predictor(new_val_predict)\n",
    "metrics_classific(y_validate,valudate_predictions, sigmoid(new_test_predict), X_validate)"
   ]
  },
  {
   "cell_type": "code",
   "execution_count": null,
   "metadata": {},
   "outputs": [],
   "source": []
  },
  {
   "cell_type": "code",
   "execution_count": null,
   "metadata": {},
   "outputs": [],
   "source": []
  },
  {
   "cell_type": "code",
   "execution_count": null,
   "metadata": {},
   "outputs": [],
   "source": []
  },
  {
   "cell_type": "code",
   "execution_count": null,
   "metadata": {},
   "outputs": [],
   "source": []
  }
 ],
 "metadata": {
  "kernelspec": {
   "display_name": "tensorflow1",
   "language": "python",
   "name": "tensorflow1"
  },
  "language_info": {
   "codemirror_mode": {
    "name": "ipython",
    "version": 3
   },
   "file_extension": ".py",
   "mimetype": "text/x-python",
   "name": "python",
   "nbconvert_exporter": "python",
   "pygments_lexer": "ipython3",
   "version": "3.6.12"
  },
  "toc": {
   "base_numbering": 1,
   "nav_menu": {},
   "number_sections": true,
   "sideBar": true,
   "skip_h1_title": false,
   "title_cell": "Table of Contents",
   "title_sidebar": "Contents",
   "toc_cell": false,
   "toc_position": {},
   "toc_section_display": true,
   "toc_window_display": false
  }
 },
 "nbformat": 4,
 "nbformat_minor": 4
}
