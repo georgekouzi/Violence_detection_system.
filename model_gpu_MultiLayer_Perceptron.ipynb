{
 "cells": [
  {
   "cell_type": "code",
   "execution_count": 1,
   "metadata": {},
   "outputs": [
    {
     "data": {
      "text/plain": [
       "'3.6.12'"
      ]
     },
     "execution_count": 1,
     "metadata": {},
     "output_type": "execute_result"
    }
   ],
   "source": [
    "from platform import python_version\n",
    "python_version()"
   ]
  },
  {
   "cell_type": "code",
   "execution_count": 2,
   "metadata": {},
   "outputs": [],
   "source": [
    "import time\n",
    "import os\n",
    "import math\n",
    "\n",
    "import numpy as np\n",
    "import pandas as pd\n",
    "import matplotlib.pyplot as plt\n",
    "\n",
    "from sklearn.metrics import roc_auc_score, log_loss"
   ]
  },
  {
   "cell_type": "code",
   "execution_count": 3,
   "metadata": {
    "code_folding": []
   },
   "outputs": [],
   "source": [
    "# Disable warnings in Anaconda\n",
    "import warnings\n",
    "warnings.filterwarnings('ignore')"
   ]
  },
  {
   "cell_type": "code",
   "execution_count": 4,
   "metadata": {},
   "outputs": [
    {
     "name": "stdout",
     "output_type": "stream",
     "text": [
      "WARNING:tensorflow:From C:\\Users\\user\\anaconda3\\envs\\tensorflow1\\lib\\site-packages\\tensorflow_core\\python\\compat\\v2_compat.py:68: disable_resource_variables (from tensorflow.python.ops.variable_scope) is deprecated and will be removed in a future version.\n",
      "Instructions for updating:\n",
      "non-resource variables are not supported in the long term\n"
     ]
    }
   ],
   "source": [
    "import tensorflow.compat.v1 as tf\n",
    "tf.disable_v2_behavior()"
   ]
  },
  {
   "cell_type": "code",
   "execution_count": 5,
   "metadata": {},
   "outputs": [
    {
     "data": {
      "text/plain": [
       "'1.15.0'"
      ]
     },
     "execution_count": 5,
     "metadata": {},
     "output_type": "execute_result"
    }
   ],
   "source": [
    "tf.__version__"
   ]
  },
  {
   "cell_type": "markdown",
   "metadata": {},
   "source": [
    "## functions"
   ]
  },
  {
   "cell_type": "code",
   "execution_count": 6,
   "metadata": {},
   "outputs": [],
   "source": [
    "#List of metric for classiffication models\n",
    "\n",
    "def metrics_classific(y,predicted,X):\n",
    "    from sklearn.metrics import confusion_matrix, classification_report, roc_curve, auc, accuracy_score\n",
    "    confusion_matrix = confusion_matrix(y, predicted)\n",
    "    print(confusion_matrix)\n",
    "    print(classification_report(y, predicted))\n",
    "\n",
    "    # Validation ROC-AUC score\n",
    "    from sklearn.metrics import roc_auc_score\n",
    "    valid_score = roc_auc_score(y, predicted)\n",
    "    print('Validation ROC-AUC score:', valid_score)\n",
    "\n",
    "    # AUC score\n",
    "    from sklearn.metrics import  auc\n",
    "    false_positive_rate, true_positive_rate, thresholds = roc_curve(y, predicted)\n",
    "    auc = auc(false_positive_rate, true_positive_rate)\n",
    "    print('Validation AUC score:    ', auc)\n",
    "    print(\"Accuracy: %.2f%%\" % (accuracy_score(y, predicted) * 100.0))"
   ]
  },
  {
   "cell_type": "code",
   "execution_count": 7,
   "metadata": {},
   "outputs": [],
   "source": [
    "def sigmoid(z):\n",
    "    return 1/(1.0 + np.exp(-z))"
   ]
  },
  {
   "cell_type": "code",
   "execution_count": 8,
   "metadata": {},
   "outputs": [],
   "source": [
    "#transform prob_prediction to predictions\n",
    "def predictor(prob_prediction):\n",
    "    return np.array(([propability[0] < propability[1] for propability in prob_prediction]), dtype=int)"
   ]
  },
  {
   "cell_type": "markdown",
   "metadata": {},
   "source": [
    "# Import dataset"
   ]
  },
  {
   "cell_type": "code",
   "execution_count": 9,
   "metadata": {},
   "outputs": [],
   "source": [
    "X_true = pd.read_csv('X_true.csv').values\n",
    "y_true = pd.read_csv('y_true.csv').values"
   ]
  },
  {
   "cell_type": "code",
   "execution_count": 10,
   "metadata": {
    "scrolled": true
   },
   "outputs": [
    {
     "data": {
      "text/plain": [
       "((10800, 12288), (10800, 1))"
      ]
     },
     "execution_count": 10,
     "metadata": {},
     "output_type": "execute_result"
    }
   ],
   "source": [
    "X_true.shape, y_true.shape"
   ]
  },
  {
   "cell_type": "code",
   "execution_count": 11,
   "metadata": {},
   "outputs": [],
   "source": [
    "from sklearn.model_selection import train_test_split\n",
    "seed = 78\n",
    "test_size = 0.33\n",
    "X_train, X_, y_train, y_ = train_test_split(X_true, y_true, test_size=test_size, random_state=seed)\n",
    "X_test, X_validate, y_test, y_validate = train_test_split(X_, y_, test_size=test_size, random_state=seed)"
   ]
  },
  {
   "cell_type": "code",
   "execution_count": null,
   "metadata": {},
   "outputs": [],
   "source": []
  },
  {
   "cell_type": "markdown",
   "metadata": {},
   "source": [
    "# MultiLayer Perceptron (MLP)"
   ]
  },
  {
   "cell_type": "code",
   "execution_count": 12,
   "metadata": {},
   "outputs": [],
   "source": [
    "shape = y_train.shape\n",
    "y_orig = y_train.reshape(shape[0],1)\n",
    "\n",
    "from sklearn.preprocessing import OneHotEncoder\n",
    "oneHot = OneHotEncoder()\n",
    "oneHot.fit(y_orig) \n",
    "data_y = oneHot.transform(y_orig).toarray()"
   ]
  },
  {
   "cell_type": "code",
   "execution_count": 13,
   "metadata": {},
   "outputs": [],
   "source": [
    "shape = y_test.shape\n",
    "y_test_orig = y_test.reshape(shape[0],1)\n",
    "\n",
    "from sklearn.preprocessing import OneHotEncoder\n",
    "oneHot = OneHotEncoder()\n",
    "oneHot.fit(y_test_orig) \n",
    "test_y = oneHot.transform(y_test_orig).toarray() "
   ]
  },
  {
   "cell_type": "code",
   "execution_count": 14,
   "metadata": {},
   "outputs": [
    {
     "data": {
      "text/plain": [
       "((7236, 12288), (7236, 2))"
      ]
     },
     "execution_count": 14,
     "metadata": {},
     "output_type": "execute_result"
    }
   ],
   "source": [
    "data_x = X_train \n",
    "data_x.shape, data_y.shape"
   ]
  },
  {
   "cell_type": "code",
   "execution_count": 15,
   "metadata": {},
   "outputs": [
    {
     "name": "stdout",
     "output_type": "stream",
     "text": [
      "WARNING:tensorflow:From <ipython-input-15-e08432590937>:22: calling dropout (from tensorflow.python.ops.nn_ops) with keep_prob is deprecated and will be removed in a future version.\n",
      "Instructions for updating:\n",
      "Please use `rate` instead of `keep_prob`. Rate should be set to `rate = 1 - keep_prob`.\n",
      "WARNING:tensorflow:From C:\\Users\\user\\anaconda3\\envs\\tensorflow1\\lib\\site-packages\\tensorflow_core\\python\\ops\\nn_impl.py:183: where (from tensorflow.python.ops.array_ops) is deprecated and will be removed in a future version.\n",
      "Instructions for updating:\n",
      "Use tf.where in 2.0, which has the same broadcast rule as np.where\n"
     ]
    }
   ],
   "source": [
    "hidden_layer_nodes = 5\n",
    "learning_rate = 0.01\n",
    "L2 =0.001 #regulization\n",
    "n_epochs = 9000\n",
    "\n",
    "num_features =data_x.shape[1]\n",
    "num_classes = data_y.shape[1]\n",
    "\n",
    "X_hold = tf.placeholder(tf.float32, [None, num_features]) \n",
    "Y_hold = tf.placeholder(tf.float32, [None,num_classes])\n",
    "\n",
    "#Hidden layer\n",
    "W1 = tf.Variable(tf.truncated_normal([num_features, hidden_layer_nodes], stddev=0.1))\n",
    "W1\n",
    "b1 = tf.Variable(tf.constant(0.1, shape=[hidden_layer_nodes]))\n",
    "z1 = tf.add(tf.matmul(X_hold,W1),b1)\n",
    "#a1 = tf.nn.leaky_relu(z1)               #activization function LeakyRelu\n",
    "a1 = tf.nn.relu(z1)                    ##activization function Relu\n",
    "\n",
    "#Dropout Layer\n",
    "keep_prob = tf.placeholder(tf.float32)\n",
    "a_drop = tf.nn.dropout(a1, keep_prob)\n",
    "\n",
    "#Output Layer\n",
    "W2 = tf.Variable(tf.truncated_normal([hidden_layer_nodes,num_classes], stddev=0.1)) \n",
    "b2 = tf.Variable(tf.constant(0.1, shape=[num_classes]))\n",
    "z2 = tf.matmul(a_drop,W2) + b2\n",
    "logit = tf.sigmoid(z2) #activization function sigmoid\n",
    "\n",
    "#cost function/cross_entropy\n",
    "loss = tf.reduce_mean(tf.nn.sigmoid_cross_entropy_with_logits(labels=Y_hold, logits=logit) + L2*tf.nn.l2_loss(W1)+ L2*tf.nn.l2_loss(W2))\n",
    "#train_step = tf.train.AdamOptimizer(learning_rate).minimize(loss) # Adam \n",
    "train_step = tf.train.GradientDescentOptimizer(learning_rate=learning_rate).minimize(loss) #Gradient Descent\n",
    "\n",
    "\n",
    "train_acc = []\n",
    "test_acc = []\n",
    "losses = []\n",
    "aucs = []\n",
    "# Define the accuracy\n",
    "prediction = tf.round(logit)\n",
    "# Bool into float32 type\n",
    "correct = tf.cast(tf.equal(prediction, Y_hold), dtype=tf.float32)\n",
    "# Average\n",
    "accuracy = tf.reduce_mean(correct)"
   ]
  },
  {
   "cell_type": "markdown",
   "metadata": {},
   "source": [
    "## Initial session"
   ]
  },
  {
   "cell_type": "code",
   "execution_count": 16,
   "metadata": {},
   "outputs": [
    {
     "name": "stdout",
     "output_type": "stream",
     "text": [
      "0 th Epoch Train AUC: 0.4901 Loss: 1.0078\n",
      "100 th Epoch Train AUC: 0.5142 Loss: 0.9342\n",
      "200 th Epoch Train AUC: 0.5188 Loss: 0.9313\n",
      "300 th Epoch Train AUC: 0.5223 Loss: 0.9289\n",
      "400 th Epoch Train AUC: 0.5250 Loss: 0.9271\n",
      "500 th Epoch Train AUC: 0.5266 Loss: 0.9260\n",
      "600 th Epoch Train AUC: 0.5286 Loss: 0.9246\n",
      "700 th Epoch Train AUC: 0.5287 Loss: 0.9241\n",
      "800 th Epoch Train AUC: 0.5313 Loss: 0.9222\n",
      "900 th Epoch Train AUC: 0.5323 Loss: 0.9213\n",
      "1000 th Epoch Train AUC: 0.5326 Loss: 0.9207\n",
      "1100 th Epoch Train AUC: 0.5327 Loss: 0.9201\n",
      "1200 th Epoch Train AUC: 0.5330 Loss: 0.9195\n",
      "1300 th Epoch Train AUC: 0.5334 Loss: 0.9189\n",
      "1400 th Epoch Train AUC: 0.5339 Loss: 0.9181\n",
      "1500 th Epoch Train AUC: 0.5342 Loss: 0.9175\n",
      "1600 th Epoch Train AUC: 0.5348 Loss: 0.9168\n",
      "1700 th Epoch Train AUC: 0.5352 Loss: 0.9162\n",
      "1800 th Epoch Train AUC: 0.5355 Loss: 0.9155\n",
      "1900 th Epoch Train AUC: 0.5361 Loss: 0.9149\n",
      "2000 th Epoch Train AUC: 0.5354 Loss: 0.9146\n",
      "2100 th Epoch Train AUC: 0.5373 Loss: 0.9134\n",
      "2200 th Epoch Train AUC: 0.5377 Loss: 0.9128\n",
      "2300 th Epoch Train AUC: 0.5385 Loss: 0.9120\n",
      "2400 th Epoch Train AUC: 0.5403 Loss: 0.9108\n",
      "2500 th Epoch Train AUC: 0.5394 Loss: 0.9104\n",
      "2600 th Epoch Train AUC: 0.5418 Loss: 0.9092\n",
      "2700 th Epoch Train AUC: 0.5426 Loss: 0.9084\n",
      "2800 th Epoch Train AUC: 0.5434 Loss: 0.9074\n",
      "2900 th Epoch Train AUC: 0.5429 Loss: 0.9072\n",
      "3000 th Epoch Train AUC: 0.5450 Loss: 0.9058\n",
      "3100 th Epoch Train AUC: 0.5453 Loss: 0.9052\n",
      "3200 th Epoch Train AUC: 0.5456 Loss: 0.9046\n",
      "3300 th Epoch Train AUC: 0.5459 Loss: 0.9040\n",
      "3400 th Epoch Train AUC: 0.5466 Loss: 0.9034\n",
      "3500 th Epoch Train AUC: 0.5469 Loss: 0.9027\n",
      "3600 th Epoch Train AUC: 0.5474 Loss: 0.9021\n",
      "3700 th Epoch Train AUC: 0.5478 Loss: 0.9015\n",
      "3800 th Epoch Train AUC: 0.5488 Loss: 0.9005\n",
      "3900 th Epoch Train AUC: 0.5502 Loss: 0.8995\n",
      "4000 th Epoch Train AUC: 0.5508 Loss: 0.8987\n",
      "4100 th Epoch Train AUC: 0.5515 Loss: 0.8980\n",
      "4200 th Epoch Train AUC: 0.5522 Loss: 0.8973\n",
      "4300 th Epoch Train AUC: 0.5529 Loss: 0.8965\n",
      "4400 th Epoch Train AUC: 0.5533 Loss: 0.8959\n",
      "4500 th Epoch Train AUC: 0.5541 Loss: 0.8952\n",
      "4600 th Epoch Train AUC: 0.5543 Loss: 0.8946\n",
      "4700 th Epoch Train AUC: 0.5549 Loss: 0.8941\n",
      "4800 th Epoch Train AUC: 0.5551 Loss: 0.8935\n",
      "4900 th Epoch Train AUC: 0.5555 Loss: 0.8930\n",
      "5000 th Epoch Train AUC: 0.5564 Loss: 0.8922\n",
      "5100 th Epoch Train AUC: 0.5588 Loss: 0.8907\n",
      "5200 th Epoch Train AUC: 0.5601 Loss: 0.8896\n",
      "5300 th Epoch Train AUC: 0.5610 Loss: 0.8888\n",
      "5400 th Epoch Train AUC: 0.5603 Loss: 0.8885\n",
      "5500 th Epoch Train AUC: 0.5635 Loss: 0.8869\n",
      "5600 th Epoch Train AUC: 0.5638 Loss: 0.8862\n",
      "5700 th Epoch Train AUC: 0.5652 Loss: 0.8850\n",
      "5800 th Epoch Train AUC: 0.5664 Loss: 0.8840\n",
      "5900 th Epoch Train AUC: 0.5674 Loss: 0.8833\n",
      "6000 th Epoch Train AUC: 0.5660 Loss: 0.8832\n",
      "6100 th Epoch Train AUC: 0.5699 Loss: 0.8811\n",
      "6200 th Epoch Train AUC: 0.5700 Loss: 0.8808\n",
      "6300 th Epoch Train AUC: 0.5719 Loss: 0.8794\n",
      "6400 th Epoch Train AUC: 0.5735 Loss: 0.8783\n",
      "6500 th Epoch Train AUC: 0.5750 Loss: 0.8772\n",
      "6600 th Epoch Train AUC: 0.5763 Loss: 0.8761\n",
      "6700 th Epoch Train AUC: 0.5781 Loss: 0.8749\n",
      "6800 th Epoch Train AUC: 0.5786 Loss: 0.8742\n",
      "6900 th Epoch Train AUC: 0.5787 Loss: 0.8734\n",
      "7000 th Epoch Train AUC: 0.5806 Loss: 0.8724\n",
      "7100 th Epoch Train AUC: 0.5814 Loss: 0.8717\n",
      "7200 th Epoch Train AUC: 0.5818 Loss: 0.8711\n",
      "7300 th Epoch Train AUC: 0.5821 Loss: 0.8705\n",
      "7400 th Epoch Train AUC: 0.5822 Loss: 0.8700\n",
      "7500 th Epoch Train AUC: 0.5824 Loss: 0.8695\n",
      "7600 th Epoch Train AUC: 0.5827 Loss: 0.8690\n",
      "7700 th Epoch Train AUC: 0.5827 Loss: 0.8686\n",
      "7800 th Epoch Train AUC: 0.5829 Loss: 0.8681\n",
      "7900 th Epoch Train AUC: 0.5829 Loss: 0.8677\n",
      "8000 th Epoch Train AUC: 0.5832 Loss: 0.8672\n",
      "8100 th Epoch Train AUC: 0.5835 Loss: 0.8666\n",
      "8200 th Epoch Train AUC: 0.5839 Loss: 0.8660\n",
      "8300 th Epoch Train AUC: 0.5840 Loss: 0.8656\n",
      "8400 th Epoch Train AUC: 0.5840 Loss: 0.8652\n",
      "8500 th Epoch Train AUC: 0.5841 Loss: 0.8647\n",
      "8600 th Epoch Train AUC: 0.5842 Loss: 0.8643\n",
      "8700 th Epoch Train AUC: 0.5843 Loss: 0.8638\n",
      "8800 th Epoch Train AUC: 0.5843 Loss: 0.8634\n",
      "8900 th Epoch Train AUC: 0.5847 Loss: 0.8629\n",
      "Wall time: 1h 10min 50s\n"
     ]
    }
   ],
   "source": [
    "%%time\n",
    "##Initial session\n",
    "saver = tf.train.Saver()\n",
    "with tf.Session() as sess:\n",
    "    # Initialize the variables\n",
    "    sess.run(tf.global_variables_initializer())\n",
    "    #save initial weights\n",
    "    Initial_MLP_W1 = sess.run(W1)\n",
    "    Initial_MLP_W2 = sess.run(W2)\n",
    "    \n",
    "    # Gradient descent\n",
    "    for i in range(n_epochs):\n",
    "        _, iloss, y_hat, temp_train_acc = sess.run([train_step, loss, prediction, accuracy], {X_hold:data_x, Y_hold:data_y,keep_prob : 1.0})\n",
    "        temp_test_acc = sess.run(accuracy, feed_dict={X_hold:X_test, Y_hold:test_y,keep_prob : 1.0}) \n",
    "        if i%100==0:\n",
    "            train_acc.append(temp_train_acc)\n",
    "            test_acc.append(temp_test_acc)\n",
    "            losses.append(iloss)\n",
    "            aucs.append(roc_auc_score(data_y, y_hat))\n",
    "        if i%100==0:\n",
    "            print('%i th Epoch Train AUC: %.4f Loss: %.4f' % (i, roc_auc_score(data_y, y_hat), iloss))\n",
    "    \n",
    "    multi_prob_predictions = sess.run(z2, feed_dict={X_hold:X_test, keep_prob : 1.0})\n",
    "    W1_matrix = sess.run(W1)\n",
    "    W2_matrix = sess.run(W2)\n",
    "    b1_vector = sess.run(b1)\n",
    "    b2_vector = sess.run(b2)\n",
    "    saver.save(sess, 'MLP_0')"
   ]
  },
  {
   "cell_type": "code",
   "execution_count": 18,
   "metadata": {},
   "outputs": [
    {
     "name": "stdout",
     "output_type": "stream",
     "text": [
      "[[ 301  767]\n",
      " [ 213 1106]]\n",
      "              precision    recall  f1-score   support\n",
      "\n",
      "         0.0       0.59      0.28      0.38      1068\n",
      "         1.0       0.59      0.84      0.69      1319\n",
      "\n",
      "    accuracy                           0.59      2387\n",
      "   macro avg       0.59      0.56      0.54      2387\n",
      "weighted avg       0.59      0.59      0.55      2387\n",
      "\n",
      "Validation ROC-AUC score: 0.5601746158848067\n",
      "Validation AUC score:     0.5601746158848067\n",
      "Accuracy: 58.94%\n"
     ]
    }
   ],
   "source": [
    "tensor_predictions = predictor(multi_prob_predictions)\n",
    "metrics_classific(y_test,tensor_predictions, X_test)"
   ]
  },
  {
   "cell_type": "code",
   "execution_count": 20,
   "metadata": {},
   "outputs": [
    {
     "data": {
      "image/png": "[encoded data removed]",
      "text/plain": [
       "<Figure size 432x288 with 2 Axes>"
      ]
     },
     "metadata": {
      "needs_background": "light"
     },
     "output_type": "display_data"
    }
   ],
   "source": [
    "fig, ((ax1),(ax2)) = plt.subplots(nrows=2, ncols=1, sharex=True, sharey=True)\n",
    "        \n",
    "ax1.plot(range(n_epochs//100), losses)\n",
    "ax1.title.set_text('Loss') \n",
    "        \n",
    "# accuracy\n",
    "ax2.plot(train_acc, 'b-', label='train accuracy')\n",
    "ax2.plot(test_acc, 'k-', label='test accuracy')\n",
    "ax2.title.set_text('Train and Test Accuracy')\n",
    "plt.show() "
   ]
  },
  {
   "cell_type": "markdown",
   "metadata": {},
   "source": [
    "## Save model"
   ]
  },
  {
   "cell_type": "code",
   "execution_count": 21,
   "metadata": {},
   "outputs": [],
   "source": [
    "#Save model\n",
    "from numpy import loadtxt\n",
    "np.savetxt('Initial_MLP_W1.csv', Initial_MLP_W1, delimiter=',')\n",
    "np.savetxt('Initial_MLP_W2.csv', Initial_MLP_W2, delimiter=',')\n",
    "\n",
    "np.savetxt('W1_matrix.csv', W1_matrix, delimiter=',')\n",
    "np.savetxt('W2_matrix.csv', W2_matrix, delimiter=',')\n",
    "\n",
    "np.savetxt('b1_vector.csv', b1_vector, delimiter=',')\n",
    "np.savetxt('b2_vector.csv', b2_vector, delimiter=',') "
   ]
  },
  {
   "cell_type": "markdown",
   "metadata": {},
   "source": [
    "## restored session 1"
   ]
  },
  {
   "cell_type": "code",
   "execution_count": 22,
   "metadata": {},
   "outputs": [],
   "source": [
    "model_name = 'MLP_0.meta'\n",
    "num_features =data_x.shape[1]\n",
    "num_classes = data_y.shape[1]"
   ]
  },
  {
   "cell_type": "code",
   "execution_count": 23,
   "metadata": {},
   "outputs": [],
   "source": [
    "learning_rate = 0.01\n",
    "L2 =0.001 #regulization\n",
    "n_epochs = 15000"
   ]
  },
  {
   "cell_type": "code",
   "execution_count": 24,
   "metadata": {},
   "outputs": [],
   "source": [
    "Initial_MLP_W1 = pd.read_csv('Initial_MLP_W1.csv',header=None).values\n",
    "Initial_MLP_W2 = pd.read_csv('Initial_MLP_W2.csv',header=None).values\n",
    "W1 = pd.read_csv('W1_matrix.csv',header=None).values\n",
    "W2 = pd.read_csv('W2_matrix.csv',header=None).values\n",
    "b1 = pd.read_csv('b1_vector.csv',header=None).values\n",
    "b2 = pd.read_csv('b2_vector.csv',header=None).values"
   ]
  },
  {
   "cell_type": "code",
   "execution_count": 25,
   "metadata": {},
   "outputs": [
    {
     "name": "stdout",
     "output_type": "stream",
     "text": [
      "INFO:tensorflow:Restoring parameters from ./MLP_0\n",
      "0 th Epoch Train AUC: 0.5849 Loss: 0.8624\n",
      "100 th Epoch Train AUC: 0.5850 Loss: 0.8620\n",
      "200 th Epoch Train AUC: 0.5852 Loss: 0.8615\n",
      "300 th Epoch Train AUC: 0.5853 Loss: 0.8611\n",
      "400 th Epoch Train AUC: 0.5853 Loss: 0.8606\n",
      "500 th Epoch Train AUC: 0.5854 Loss: 0.8602\n",
      "600 th Epoch Train AUC: 0.5854 Loss: 0.8598\n",
      "700 th Epoch Train AUC: 0.5854 Loss: 0.8594\n",
      "800 th Epoch Train AUC: 0.5855 Loss: 0.8590\n",
      "900 th Epoch Train AUC: 0.5856 Loss: 0.8585\n",
      "1000 th Epoch Train AUC: 0.5856 Loss: 0.8581\n",
      "1100 th Epoch Train AUC: 0.5856 Loss: 0.8577\n",
      "1200 th Epoch Train AUC: 0.5856 Loss: 0.8574\n",
      "1300 th Epoch Train AUC: 0.5856 Loss: 0.8570\n",
      "1400 th Epoch Train AUC: 0.5856 Loss: 0.8566\n",
      "1500 th Epoch Train AUC: 0.5858 Loss: 0.8561\n",
      "1600 th Epoch Train AUC: 0.5859 Loss: 0.8557\n",
      "1700 th Epoch Train AUC: 0.5860 Loss: 0.8552\n",
      "1800 th Epoch Train AUC: 0.5861 Loss: 0.8548\n",
      "1900 th Epoch Train AUC: 0.5861 Loss: 0.8544\n",
      "2000 th Epoch Train AUC: 0.5863 Loss: 0.8540\n",
      "2100 th Epoch Train AUC: 0.5863 Loss: 0.8536\n",
      "2200 th Epoch Train AUC: 0.5864 Loss: 0.8532\n",
      "2300 th Epoch Train AUC: 0.5864 Loss: 0.8528\n",
      "2400 th Epoch Train AUC: 0.5864 Loss: 0.8524\n",
      "2500 th Epoch Train AUC: 0.5864 Loss: 0.8520\n",
      "2600 th Epoch Train AUC: 0.5865 Loss: 0.8516\n",
      "2700 th Epoch Train AUC: 0.5865 Loss: 0.8512\n",
      "2800 th Epoch Train AUC: 0.5866 Loss: 0.8508\n",
      "2900 th Epoch Train AUC: 0.5867 Loss: 0.8504\n",
      "3000 th Epoch Train AUC: 0.5867 Loss: 0.8500\n",
      "3100 th Epoch Train AUC: 0.5867 Loss: 0.8496\n",
      "3200 th Epoch Train AUC: 0.5868 Loss: 0.8492\n",
      "3300 th Epoch Train AUC: 0.5870 Loss: 0.8488\n",
      "3400 th Epoch Train AUC: 0.5870 Loss: 0.8483\n",
      "3500 th Epoch Train AUC: 0.5870 Loss: 0.8479\n",
      "3600 th Epoch Train AUC: 0.5872 Loss: 0.8475\n",
      "3700 th Epoch Train AUC: 0.5874 Loss: 0.8471\n",
      "3800 th Epoch Train AUC: 0.5875 Loss: 0.8466\n",
      "3900 th Epoch Train AUC: 0.5876 Loss: 0.8462\n",
      "4000 th Epoch Train AUC: 0.5877 Loss: 0.8458\n",
      "4100 th Epoch Train AUC: 0.5877 Loss: 0.8454\n",
      "4200 th Epoch Train AUC: 0.5877 Loss: 0.8450\n",
      "4300 th Epoch Train AUC: 0.5879 Loss: 0.8446\n",
      "4400 th Epoch Train AUC: 0.5879 Loss: 0.8442\n",
      "4500 th Epoch Train AUC: 0.5881 Loss: 0.8438\n",
      "4600 th Epoch Train AUC: 0.5881 Loss: 0.8434\n",
      "4700 th Epoch Train AUC: 0.5882 Loss: 0.8430\n",
      "4800 th Epoch Train AUC: 0.5885 Loss: 0.8426\n",
      "4900 th Epoch Train AUC: 0.5886 Loss: 0.8422\n",
      "5000 th Epoch Train AUC: 0.5886 Loss: 0.8418\n",
      "5100 th Epoch Train AUC: 0.5889 Loss: 0.8413\n",
      "5200 th Epoch Train AUC: 0.5890 Loss: 0.8409\n",
      "5300 th Epoch Train AUC: 0.5891 Loss: 0.8405\n",
      "5400 th Epoch Train AUC: 0.5893 Loss: 0.8401\n",
      "5500 th Epoch Train AUC: 0.5893 Loss: 0.8397\n",
      "5600 th Epoch Train AUC: 0.5895 Loss: 0.8393\n",
      "5700 th Epoch Train AUC: 0.5897 Loss: 0.8388\n",
      "5800 th Epoch Train AUC: 0.5898 Loss: 0.8384\n",
      "5900 th Epoch Train AUC: 0.5899 Loss: 0.8380\n",
      "6000 th Epoch Train AUC: 0.5899 Loss: 0.8377\n",
      "6100 th Epoch Train AUC: 0.5899 Loss: 0.8373\n",
      "6200 th Epoch Train AUC: 0.5900 Loss: 0.8369\n",
      "6300 th Epoch Train AUC: 0.5900 Loss: 0.8366\n",
      "6400 th Epoch Train AUC: 0.5901 Loss: 0.8362\n",
      "6500 th Epoch Train AUC: 0.5901 Loss: 0.8358\n",
      "6600 th Epoch Train AUC: 0.5901 Loss: 0.8355\n",
      "6700 th Epoch Train AUC: 0.5903 Loss: 0.8350\n",
      "6800 th Epoch Train AUC: 0.5903 Loss: 0.8347\n",
      "6900 th Epoch Train AUC: 0.5904 Loss: 0.8343\n",
      "7000 th Epoch Train AUC: 0.5906 Loss: 0.8339\n",
      "7100 th Epoch Train AUC: 0.5910 Loss: 0.8334\n",
      "7200 th Epoch Train AUC: 0.5910 Loss: 0.8330\n",
      "7300 th Epoch Train AUC: 0.5911 Loss: 0.8326\n",
      "7400 th Epoch Train AUC: 0.5912 Loss: 0.8323\n",
      "7500 th Epoch Train AUC: 0.5912 Loss: 0.8319\n",
      "7600 th Epoch Train AUC: 0.5912 Loss: 0.8316\n",
      "7700 th Epoch Train AUC: 0.5912 Loss: 0.8312\n",
      "7800 th Epoch Train AUC: 0.5912 Loss: 0.8309\n",
      "7900 th Epoch Train AUC: 0.5913 Loss: 0.8305\n",
      "8000 th Epoch Train AUC: 0.5913 Loss: 0.8302\n",
      "8100 th Epoch Train AUC: 0.5914 Loss: 0.8298\n",
      "8200 th Epoch Train AUC: 0.5914 Loss: 0.8295\n",
      "8300 th Epoch Train AUC: 0.5914 Loss: 0.8291\n",
      "8400 th Epoch Train AUC: 0.5914 Loss: 0.8288\n",
      "8500 th Epoch Train AUC: 0.5914 Loss: 0.8284\n",
      "8600 th Epoch Train AUC: 0.5914 Loss: 0.8281\n",
      "8700 th Epoch Train AUC: 0.5914 Loss: 0.8278\n",
      "8800 th Epoch Train AUC: 0.5914 Loss: 0.8274\n",
      "8900 th Epoch Train AUC: 0.5915 Loss: 0.8271\n",
      "9000 th Epoch Train AUC: 0.5915 Loss: 0.8267\n",
      "9100 th Epoch Train AUC: 0.5916 Loss: 0.8264\n",
      "9200 th Epoch Train AUC: 0.5916 Loss: 0.8260\n",
      "9300 th Epoch Train AUC: 0.5916 Loss: 0.8257\n",
      "9400 th Epoch Train AUC: 0.5916 Loss: 0.8254\n",
      "9500 th Epoch Train AUC: 0.5916 Loss: 0.8250\n",
      "9600 th Epoch Train AUC: 0.5916 Loss: 0.8247\n",
      "9700 th Epoch Train AUC: 0.5917 Loss: 0.8243\n",
      "9800 th Epoch Train AUC: 0.5920 Loss: 0.8239\n",
      "9900 th Epoch Train AUC: 0.5920 Loss: 0.8236\n",
      "10000 th Epoch Train AUC: 0.5920 Loss: 0.8233\n",
      "10100 th Epoch Train AUC: 0.5920 Loss: 0.8229\n",
      "10200 th Epoch Train AUC: 0.5921 Loss: 0.8226\n",
      "10300 th Epoch Train AUC: 0.5921 Loss: 0.8222\n",
      "10400 th Epoch Train AUC: 0.5921 Loss: 0.8219\n",
      "10500 th Epoch Train AUC: 0.5921 Loss: 0.8216\n",
      "10600 th Epoch Train AUC: 0.5922 Loss: 0.8212\n",
      "10700 th Epoch Train AUC: 0.5922 Loss: 0.8209\n",
      "10800 th Epoch Train AUC: 0.5923 Loss: 0.8205\n",
      "10900 th Epoch Train AUC: 0.5923 Loss: 0.8202\n",
      "11000 th Epoch Train AUC: 0.5923 Loss: 0.8199\n",
      "11100 th Epoch Train AUC: 0.5923 Loss: 0.8195\n",
      "11200 th Epoch Train AUC: 0.5923 Loss: 0.8192\n",
      "11300 th Epoch Train AUC: 0.5923 Loss: 0.8189\n",
      "11400 th Epoch Train AUC: 0.5923 Loss: 0.8186\n",
      "11500 th Epoch Train AUC: 0.5923 Loss: 0.8183\n",
      "11600 th Epoch Train AUC: 0.5923 Loss: 0.8180\n",
      "11700 th Epoch Train AUC: 0.5923 Loss: 0.8176\n",
      "11800 th Epoch Train AUC: 0.5923 Loss: 0.8173\n",
      "11900 th Epoch Train AUC: 0.5923 Loss: 0.8170\n",
      "12000 th Epoch Train AUC: 0.5923 Loss: 0.8167\n",
      "12100 th Epoch Train AUC: 0.5923 Loss: 0.8164\n",
      "12200 th Epoch Train AUC: 0.5923 Loss: 0.8161\n",
      "12300 th Epoch Train AUC: 0.5923 Loss: 0.8158\n",
      "12400 th Epoch Train AUC: 0.5923 Loss: 0.8154\n",
      "12500 th Epoch Train AUC: 0.5923 Loss: 0.8151\n",
      "12600 th Epoch Train AUC: 0.5923 Loss: 0.8148\n",
      "12700 th Epoch Train AUC: 0.5923 Loss: 0.8145\n",
      "12800 th Epoch Train AUC: 0.5923 Loss: 0.8142\n",
      "12900 th Epoch Train AUC: 0.5923 Loss: 0.8139\n",
      "13000 th Epoch Train AUC: 0.5924 Loss: 0.8136\n",
      "13100 th Epoch Train AUC: 0.5924 Loss: 0.8133\n",
      "13200 th Epoch Train AUC: 0.5924 Loss: 0.8129\n",
      "13300 th Epoch Train AUC: 0.5925 Loss: 0.8126\n",
      "13400 th Epoch Train AUC: 0.5926 Loss: 0.8122\n",
      "13500 th Epoch Train AUC: 0.5927 Loss: 0.8119\n",
      "13600 th Epoch Train AUC: 0.5928 Loss: 0.8116\n",
      "13700 th Epoch Train AUC: 0.5928 Loss: 0.8112\n",
      "13800 th Epoch Train AUC: 0.5929 Loss: 0.8109\n",
      "13900 th Epoch Train AUC: 0.5929 Loss: 0.8106\n",
      "14000 th Epoch Train AUC: 0.5929 Loss: 0.8103\n",
      "14100 th Epoch Train AUC: 0.5929 Loss: 0.8100\n",
      "14200 th Epoch Train AUC: 0.5929 Loss: 0.8097\n",
      "14300 th Epoch Train AUC: 0.5930 Loss: 0.8094\n",
      "14400 th Epoch Train AUC: 0.5930 Loss: 0.8091\n",
      "14500 th Epoch Train AUC: 0.5930 Loss: 0.8088\n",
      "14600 th Epoch Train AUC: 0.5931 Loss: 0.8084\n",
      "14700 th Epoch Train AUC: 0.5932 Loss: 0.8081\n",
      "14800 th Epoch Train AUC: 0.5933 Loss: 0.8078\n",
      "14900 th Epoch Train AUC: 0.5935 Loss: 0.8074\n"
     ]
    },
    {
     "ename": "TypeError",
     "evalue": "Fetch argument array([[ 0.08147664, -0.03042177, -0.0400863 ,  0.09311056,  0.13341278],\n       [-0.03723866, -0.1469928 ,  0.07704131, -0.04528763, -0.01072775],\n       [ 0.08747406,  0.06737929,  0.10285426,  0.03216217, -0.04981566],\n       ...,\n       [-0.00807297, -0.03849746,  0.01556597,  0.09482423,  0.09166291],\n       [ 0.00284889, -0.0739996 ,  0.03634903, -0.13460866,  0.14565124],\n       [-0.10592775, -0.00781822, -0.07368542,  0.1743885 ,  0.12530404]]) has invalid type <class 'numpy.ndarray'>, must be a string or Tensor. (Can not convert a ndarray into a Tensor or Operation.)",
     "output_type": "error",
     "traceback": [
      "\u001b[1;31m---------------------------------------------------------------------------\u001b[0m",
      "\u001b[1;31mTypeError\u001b[0m                                 Traceback (most recent call last)",
      "\u001b[1;32m~\\anaconda3\\envs\\tensorflow1\\lib\\site-packages\\tensorflow_core\\python\\client\\session.py\u001b[0m in \u001b[0;36m__init__\u001b[1;34m(self, fetches, contraction_fn)\u001b[0m\n\u001b[0;32m    304\u001b[0m         self._unique_fetches.append(ops.get_default_graph().as_graph_element(\n\u001b[1;32m--> 305\u001b[1;33m             fetch, allow_tensor=True, allow_operation=True))\n\u001b[0m\u001b[0;32m    306\u001b[0m       \u001b[1;32mexcept\u001b[0m \u001b[0mTypeError\u001b[0m \u001b[1;32mas\u001b[0m \u001b[0me\u001b[0m\u001b[1;33m:\u001b[0m\u001b[1;33m\u001b[0m\u001b[1;33m\u001b[0m\u001b[0m\n",
      "\u001b[1;32m~\\anaconda3\\envs\\tensorflow1\\lib\\site-packages\\tensorflow_core\\python\\framework\\ops.py\u001b[0m in \u001b[0;36mas_graph_element\u001b[1;34m(self, obj, allow_tensor, allow_operation)\u001b[0m\n\u001b[0;32m   3606\u001b[0m     \u001b[1;32mwith\u001b[0m \u001b[0mself\u001b[0m\u001b[1;33m.\u001b[0m\u001b[0m_lock\u001b[0m\u001b[1;33m:\u001b[0m\u001b[1;33m\u001b[0m\u001b[1;33m\u001b[0m\u001b[0m\n\u001b[1;32m-> 3607\u001b[1;33m       \u001b[1;32mreturn\u001b[0m \u001b[0mself\u001b[0m\u001b[1;33m.\u001b[0m\u001b[0m_as_graph_element_locked\u001b[0m\u001b[1;33m(\u001b[0m\u001b[0mobj\u001b[0m\u001b[1;33m,\u001b[0m \u001b[0mallow_tensor\u001b[0m\u001b[1;33m,\u001b[0m \u001b[0mallow_operation\u001b[0m\u001b[1;33m)\u001b[0m\u001b[1;33m\u001b[0m\u001b[1;33m\u001b[0m\u001b[0m\n\u001b[0m\u001b[0;32m   3608\u001b[0m \u001b[1;33m\u001b[0m\u001b[0m\n",
      "\u001b[1;32m~\\anaconda3\\envs\\tensorflow1\\lib\\site-packages\\tensorflow_core\\python\\framework\\ops.py\u001b[0m in \u001b[0;36m_as_graph_element_locked\u001b[1;34m(self, obj, allow_tensor, allow_operation)\u001b[0m\n\u001b[0;32m   3695\u001b[0m       raise TypeError(\"Can not convert a %s into a %s.\" %\n\u001b[1;32m-> 3696\u001b[1;33m                       (type(obj).__name__, types_str))\n\u001b[0m\u001b[0;32m   3697\u001b[0m \u001b[1;33m\u001b[0m\u001b[0m\n",
      "\u001b[1;31mTypeError\u001b[0m: Can not convert a ndarray into a Tensor or Operation.",
      "\nDuring handling of the above exception, another exception occurred:\n",
      "\u001b[1;31mTypeError\u001b[0m                                 Traceback (most recent call last)",
      "\u001b[1;32m<timed exec>\u001b[0m in \u001b[0;36m<module>\u001b[1;34m\u001b[0m\n",
      "\u001b[1;32m~\\anaconda3\\envs\\tensorflow1\\lib\\site-packages\\tensorflow_core\\python\\client\\session.py\u001b[0m in \u001b[0;36mrun\u001b[1;34m(self, fetches, feed_dict, options, run_metadata)\u001b[0m\n\u001b[0;32m    954\u001b[0m     \u001b[1;32mtry\u001b[0m\u001b[1;33m:\u001b[0m\u001b[1;33m\u001b[0m\u001b[1;33m\u001b[0m\u001b[0m\n\u001b[0;32m    955\u001b[0m       result = self._run(None, fetches, feed_dict, options_ptr,\n\u001b[1;32m--> 956\u001b[1;33m                          run_metadata_ptr)\n\u001b[0m\u001b[0;32m    957\u001b[0m       \u001b[1;32mif\u001b[0m \u001b[0mrun_metadata\u001b[0m\u001b[1;33m:\u001b[0m\u001b[1;33m\u001b[0m\u001b[1;33m\u001b[0m\u001b[0m\n\u001b[0;32m    958\u001b[0m         \u001b[0mproto_data\u001b[0m \u001b[1;33m=\u001b[0m \u001b[0mtf_session\u001b[0m\u001b[1;33m.\u001b[0m\u001b[0mTF_GetBuffer\u001b[0m\u001b[1;33m(\u001b[0m\u001b[0mrun_metadata_ptr\u001b[0m\u001b[1;33m)\u001b[0m\u001b[1;33m\u001b[0m\u001b[1;33m\u001b[0m\u001b[0m\n",
      "\u001b[1;32m~\\anaconda3\\envs\\tensorflow1\\lib\\site-packages\\tensorflow_core\\python\\client\\session.py\u001b[0m in \u001b[0;36m_run\u001b[1;34m(self, handle, fetches, feed_dict, options, run_metadata)\u001b[0m\n\u001b[0;32m   1163\u001b[0m     \u001b[1;31m# Create a fetch handler to take care of the structure of fetches.\u001b[0m\u001b[1;33m\u001b[0m\u001b[1;33m\u001b[0m\u001b[1;33m\u001b[0m\u001b[0m\n\u001b[0;32m   1164\u001b[0m     fetch_handler = _FetchHandler(\n\u001b[1;32m-> 1165\u001b[1;33m         self._graph, fetches, feed_dict_tensor, feed_handles=feed_handles)\n\u001b[0m\u001b[0;32m   1166\u001b[0m \u001b[1;33m\u001b[0m\u001b[0m\n\u001b[0;32m   1167\u001b[0m     \u001b[1;31m# Run request and get response.\u001b[0m\u001b[1;33m\u001b[0m\u001b[1;33m\u001b[0m\u001b[1;33m\u001b[0m\u001b[0m\n",
      "\u001b[1;32m~\\anaconda3\\envs\\tensorflow1\\lib\\site-packages\\tensorflow_core\\python\\client\\session.py\u001b[0m in \u001b[0;36m__init__\u001b[1;34m(self, graph, fetches, feeds, feed_handles)\u001b[0m\n\u001b[0;32m    472\u001b[0m     \"\"\"\n\u001b[0;32m    473\u001b[0m     \u001b[1;32mwith\u001b[0m \u001b[0mgraph\u001b[0m\u001b[1;33m.\u001b[0m\u001b[0mas_default\u001b[0m\u001b[1;33m(\u001b[0m\u001b[1;33m)\u001b[0m\u001b[1;33m:\u001b[0m\u001b[1;33m\u001b[0m\u001b[1;33m\u001b[0m\u001b[0m\n\u001b[1;32m--> 474\u001b[1;33m       \u001b[0mself\u001b[0m\u001b[1;33m.\u001b[0m\u001b[0m_fetch_mapper\u001b[0m \u001b[1;33m=\u001b[0m \u001b[0m_FetchMapper\u001b[0m\u001b[1;33m.\u001b[0m\u001b[0mfor_fetch\u001b[0m\u001b[1;33m(\u001b[0m\u001b[0mfetches\u001b[0m\u001b[1;33m)\u001b[0m\u001b[1;33m\u001b[0m\u001b[1;33m\u001b[0m\u001b[0m\n\u001b[0m\u001b[0;32m    475\u001b[0m     \u001b[0mself\u001b[0m\u001b[1;33m.\u001b[0m\u001b[0m_fetches\u001b[0m \u001b[1;33m=\u001b[0m \u001b[1;33m[\u001b[0m\u001b[1;33m]\u001b[0m\u001b[1;33m\u001b[0m\u001b[1;33m\u001b[0m\u001b[0m\n\u001b[0;32m    476\u001b[0m     \u001b[0mself\u001b[0m\u001b[1;33m.\u001b[0m\u001b[0m_targets\u001b[0m \u001b[1;33m=\u001b[0m \u001b[1;33m[\u001b[0m\u001b[1;33m]\u001b[0m\u001b[1;33m\u001b[0m\u001b[1;33m\u001b[0m\u001b[0m\n",
      "\u001b[1;32m~\\anaconda3\\envs\\tensorflow1\\lib\\site-packages\\tensorflow_core\\python\\client\\session.py\u001b[0m in \u001b[0;36mfor_fetch\u001b[1;34m(fetch)\u001b[0m\n\u001b[0;32m    274\u001b[0m         \u001b[1;32mif\u001b[0m \u001b[0misinstance\u001b[0m\u001b[1;33m(\u001b[0m\u001b[0mfetch\u001b[0m\u001b[1;33m,\u001b[0m \u001b[0mtensor_type\u001b[0m\u001b[1;33m)\u001b[0m\u001b[1;33m:\u001b[0m\u001b[1;33m\u001b[0m\u001b[1;33m\u001b[0m\u001b[0m\n\u001b[0;32m    275\u001b[0m           \u001b[0mfetches\u001b[0m\u001b[1;33m,\u001b[0m \u001b[0mcontraction_fn\u001b[0m \u001b[1;33m=\u001b[0m \u001b[0mfetch_fn\u001b[0m\u001b[1;33m(\u001b[0m\u001b[0mfetch\u001b[0m\u001b[1;33m)\u001b[0m\u001b[1;33m\u001b[0m\u001b[1;33m\u001b[0m\u001b[0m\n\u001b[1;32m--> 276\u001b[1;33m           \u001b[1;32mreturn\u001b[0m \u001b[0m_ElementFetchMapper\u001b[0m\u001b[1;33m(\u001b[0m\u001b[0mfetches\u001b[0m\u001b[1;33m,\u001b[0m \u001b[0mcontraction_fn\u001b[0m\u001b[1;33m)\u001b[0m\u001b[1;33m\u001b[0m\u001b[1;33m\u001b[0m\u001b[0m\n\u001b[0m\u001b[0;32m    277\u001b[0m     \u001b[1;31m# Did not find anything.\u001b[0m\u001b[1;33m\u001b[0m\u001b[1;33m\u001b[0m\u001b[1;33m\u001b[0m\u001b[0m\n\u001b[0;32m    278\u001b[0m     raise TypeError('Fetch argument %r has invalid type %r' %\n",
      "\u001b[1;32m~\\anaconda3\\envs\\tensorflow1\\lib\\site-packages\\tensorflow_core\\python\\client\\session.py\u001b[0m in \u001b[0;36m__init__\u001b[1;34m(self, fetches, contraction_fn)\u001b[0m\n\u001b[0;32m    307\u001b[0m         raise TypeError('Fetch argument %r has invalid type %r, '\n\u001b[0;32m    308\u001b[0m                         \u001b[1;34m'must be a string or Tensor. (%s)'\u001b[0m \u001b[1;33m%\u001b[0m\u001b[1;33m\u001b[0m\u001b[1;33m\u001b[0m\u001b[0m\n\u001b[1;32m--> 309\u001b[1;33m                         (fetch, type(fetch), str(e)))\n\u001b[0m\u001b[0;32m    310\u001b[0m       \u001b[1;32mexcept\u001b[0m \u001b[0mValueError\u001b[0m \u001b[1;32mas\u001b[0m \u001b[0me\u001b[0m\u001b[1;33m:\u001b[0m\u001b[1;33m\u001b[0m\u001b[1;33m\u001b[0m\u001b[0m\n\u001b[0;32m    311\u001b[0m         raise ValueError('Fetch argument %r cannot be interpreted as a '\n",
      "\u001b[1;31mTypeError\u001b[0m: Fetch argument array([[ 0.08147664, -0.03042177, -0.0400863 ,  0.09311056,  0.13341278],\n       [-0.03723866, -0.1469928 ,  0.07704131, -0.04528763, -0.01072775],\n       [ 0.08747406,  0.06737929,  0.10285426,  0.03216217, -0.04981566],\n       ...,\n       [-0.00807297, -0.03849746,  0.01556597,  0.09482423,  0.09166291],\n       [ 0.00284889, -0.0739996 ,  0.03634903, -0.13460866,  0.14565124],\n       [-0.10592775, -0.00781822, -0.07368542,  0.1743885 ,  0.12530404]]) has invalid type <class 'numpy.ndarray'>, must be a string or Tensor. (Can not convert a ndarray into a Tensor or Operation.)"
     ]
    }
   ],
   "source": [
    "%%time\n",
    "##restored session\n",
    "with tf.Session() as sess:\n",
    "    new_saver = tf.train.import_meta_graph(model_name)\n",
    "    sess.run(tf.global_variables_initializer())\n",
    "    new_saver.restore(sess,tf.train.latest_checkpoint('./'))\n",
    "    \n",
    "    # Gradient descent\n",
    "    for i in range(n_epochs):\n",
    "        _, iloss, y_hat, temp_train_acc = sess.run([train_step, loss, prediction, accuracy], {X_hold:data_x, Y_hold:data_y,keep_prob : 1.0})\n",
    "        temp_test_acc = sess.run(accuracy, feed_dict={X_hold:X_test, Y_hold:test_y,keep_prob : 1.0}) \n",
    "        if i%100==0:\n",
    "            train_acc.append(temp_train_acc)\n",
    "            test_acc.append(temp_test_acc)\n",
    "            losses.append(iloss)\n",
    "            aucs.append(roc_auc_score(data_y, y_hat))\n",
    "        if i%100==0:\n",
    "            print('%i th Epoch Train AUC: %.4f Loss: %.4f' % (i, roc_auc_score(data_y, y_hat), iloss))\n",
    "    \n",
    "    multi_prob_predictions = sess.run(z2, feed_dict={X_hold:X_test, keep_prob : 1.0})\n",
    "    W1_matrix = sess.run(W1)\n",
    "    W2_matrix = sess.run(W2)\n",
    "    b1_vector = sess.run(b1)\n",
    "    b2_vector = sess.run(b2)\n",
    "    saver.save(sess, 'MLP_1')"
   ]
  },
  {
   "cell_type": "code",
   "execution_count": 26,
   "metadata": {},
   "outputs": [
    {
     "name": "stdout",
     "output_type": "stream",
     "text": [
      "[[ 312  756]\n",
      " [ 201 1118]]\n",
      "              precision    recall  f1-score   support\n",
      "\n",
      "         0.0       0.61      0.29      0.39      1068\n",
      "         1.0       0.60      0.85      0.70      1319\n",
      "\n",
      "    accuracy                           0.60      2387\n",
      "   macro avg       0.60      0.57      0.55      2387\n",
      "weighted avg       0.60      0.60      0.56      2387\n",
      "\n",
      "Validation ROC-AUC score: 0.5698733293012241\n",
      "Validation AUC score:     0.5698733293012241\n",
      "Accuracy: 59.91%\n"
     ]
    }
   ],
   "source": [
    "tensor_predictions = predictor(multi_prob_predictions)\n",
    "metrics_classific(y_test,tensor_predictions, X_test)"
   ]
  },
  {
   "cell_type": "code",
   "execution_count": 27,
   "metadata": {},
   "outputs": [
    {
     "data": {
      "image/png": "[encoded data removed]",
      "text/plain": [
       "<Figure size 432x288 with 2 Axes>"
      ]
     },
     "metadata": {
      "needs_background": "light"
     },
     "output_type": "display_data"
    }
   ],
   "source": [
    "fig, ((ax1),(ax2)) = plt.subplots(nrows=2, ncols=1, sharex=True, sharey=True)\n",
    "        \n",
    "# ax1.plot(range(n_epochs//100), losses)\n",
    "ax1.title.set_text('Loss') \n",
    "        \n",
    "# accuracy\n",
    "ax2.plot(train_acc, 'b-', label='train accuracy')\n",
    "ax2.plot(test_acc, 'k-', label='test accuracy')\n",
    "ax2.title.set_text('Train and Test Accuracy')\n",
    "plt.show() "
   ]
  },
  {
   "cell_type": "markdown",
   "metadata": {},
   "source": [
    "# Model validation"
   ]
  },
  {
   "cell_type": "code",
   "execution_count": 28,
   "metadata": {},
   "outputs": [],
   "source": [
    "#Load model\n",
    "W1 = pd.read_csv('W1_matrix.csv',header=None).values\n",
    "W2 = pd.read_csv('W2_matrix.csv',header=None).values\n",
    "b1 = pd.read_csv('b1_vector.csv',header=None).values\n",
    "b2 = pd.read_csv('b2_vector.csv',header=None).values"
   ]
  },
  {
   "cell_type": "code",
   "execution_count": 29,
   "metadata": {},
   "outputs": [
    {
     "data": {
      "text/plain": [
       "(12288, 5)"
      ]
     },
     "execution_count": 29,
     "metadata": {},
     "output_type": "execute_result"
    }
   ],
   "source": [
    "W1.shape"
   ]
  },
  {
   "cell_type": "code",
   "execution_count": 30,
   "metadata": {},
   "outputs": [
    {
     "data": {
      "text/plain": [
       "array([[0.09992941],\n",
       "       [0.1003964 ],\n",
       "       [0.10005996],\n",
       "       [0.0998529 ],\n",
       "       [0.09993495]])"
      ]
     },
     "execution_count": 30,
     "metadata": {},
     "output_type": "execute_result"
    }
   ],
   "source": [
    "b1"
   ]
  },
  {
   "cell_type": "code",
   "execution_count": 31,
   "metadata": {},
   "outputs": [],
   "source": [
    "def Z_function(X_test,W,b):\n",
    "    val_predict = np.dot(np.array(X_test),W)\n",
    "    new_val_predict = np.zeros(shape=(val_predict.shape))\n",
    "    for i in range(len(val_predict)):\n",
    "        for j in range(len(b)):\n",
    "            new_val_predict[i] = [val_predict[i][j]+b[j] for j in range(len(b))]\n",
    "    return new_val_predict    "
   ]
  },
  {
   "cell_type": "code",
   "execution_count": 32,
   "metadata": {},
   "outputs": [],
   "source": [
    "z1 = Z_function(X_test,W1,b1)\n",
    "#LeakyRelu\n",
    "a1 = np.where(z1 > 0, z1, z1 * 0.01)\n",
    "# Relu\n",
    "a_relu = np.maximum(0, z1)"
   ]
  },
  {
   "cell_type": "code",
   "execution_count": 33,
   "metadata": {},
   "outputs": [
    {
     "data": {
      "text/plain": [
       "((2387, 5), (2387, 5))"
      ]
     },
     "execution_count": 33,
     "metadata": {},
     "output_type": "execute_result"
    }
   ],
   "source": [
    "z1.shape, a1.shape"
   ]
  },
  {
   "cell_type": "code",
   "execution_count": 34,
   "metadata": {},
   "outputs": [
    {
     "data": {
      "text/plain": [
       "array([-485.16626698, -683.16955633, 1230.55196917, -254.74889505,\n",
       "        853.69844944])"
      ]
     },
     "execution_count": 34,
     "metadata": {},
     "output_type": "execute_result"
    }
   ],
   "source": [
    "z1[0]"
   ]
  },
  {
   "cell_type": "code",
   "execution_count": 35,
   "metadata": {},
   "outputs": [
    {
     "data": {
      "text/plain": [
       "array([  -4.85166267,   -6.83169556, 1230.55196917,   -2.54748895,\n",
       "        853.69844944])"
      ]
     },
     "execution_count": 35,
     "metadata": {},
     "output_type": "execute_result"
    }
   ],
   "source": [
    "#LeakyRelu\n",
    "a1[0]"
   ]
  },
  {
   "cell_type": "code",
   "execution_count": 36,
   "metadata": {},
   "outputs": [
    {
     "data": {
      "text/plain": [
       "array([   0.        ,    0.        , 1230.55196917,    0.        ,\n",
       "        853.69844944])"
      ]
     },
     "execution_count": 36,
     "metadata": {},
     "output_type": "execute_result"
    }
   ],
   "source": [
    "#Relu\n",
    "a_relu[0]"
   ]
  },
  {
   "cell_type": "code",
   "execution_count": 37,
   "metadata": {},
   "outputs": [],
   "source": [
    "z2 = Z_function(a_relu,W2,b2)"
   ]
  },
  {
   "cell_type": "code",
   "execution_count": 38,
   "metadata": {},
   "outputs": [
    {
     "data": {
      "text/plain": [
       "(2387, 2)"
      ]
     },
     "execution_count": 38,
     "metadata": {},
     "output_type": "execute_result"
    }
   ],
   "source": [
    "z2.shape"
   ]
  },
  {
   "cell_type": "code",
   "execution_count": 39,
   "metadata": {},
   "outputs": [
    {
     "data": {
      "text/plain": [
       "array([-188.55547915,  -73.16680937])"
      ]
     },
     "execution_count": 39,
     "metadata": {},
     "output_type": "execute_result"
    }
   ],
   "source": [
    "z2[0]"
   ]
  },
  {
   "cell_type": "code",
   "execution_count": 40,
   "metadata": {},
   "outputs": [],
   "source": [
    "valudate_prediction = predictor(z2)"
   ]
  },
  {
   "cell_type": "code",
   "execution_count": 41,
   "metadata": {},
   "outputs": [
    {
     "data": {
      "text/plain": [
       "1"
      ]
     },
     "execution_count": 41,
     "metadata": {},
     "output_type": "execute_result"
    }
   ],
   "source": [
    "valudate_prediction[0]"
   ]
  },
  {
   "cell_type": "code",
   "execution_count": 42,
   "metadata": {},
   "outputs": [
    {
     "name": "stdout",
     "output_type": "stream",
     "text": [
      "[[ 301  767]\n",
      " [ 213 1106]]\n",
      "              precision    recall  f1-score   support\n",
      "\n",
      "         0.0       0.59      0.28      0.38      1068\n",
      "         1.0       0.59      0.84      0.69      1319\n",
      "\n",
      "    accuracy                           0.59      2387\n",
      "   macro avg       0.59      0.56      0.54      2387\n",
      "weighted avg       0.59      0.59      0.55      2387\n",
      "\n",
      "Validation ROC-AUC score: 0.5601746158848067\n",
      "Validation AUC score:     0.5601746158848067\n",
      "Accuracy: 58.94%\n",
      "LogLoss : 2.712948309096176\n"
     ]
    }
   ],
   "source": [
    "metrics_classific(y_test,valudate_prediction, X_test)\n",
    "print(\"LogLoss :\", log_loss(y_test,sigmoid(z2)))"
   ]
  },
  {
   "cell_type": "code",
   "execution_count": 43,
   "metadata": {},
   "outputs": [],
   "source": [
    "z1 = Z_function(X_validate,W1,b1)\n",
    "a1 = np.where(z1 > 0, z1, z1 * 0.01) #LeakyRelu\n",
    "#a1 = np.maximum(0, z1) #Relu\n",
    "z2 = Z_function(a1,W2,b2)"
   ]
  },
  {
   "cell_type": "code",
   "execution_count": 44,
   "metadata": {},
   "outputs": [
    {
     "name": "stdout",
     "output_type": "stream",
     "text": [
      "[[162 373]\n",
      " [ 98 544]]\n",
      "              precision    recall  f1-score   support\n",
      "\n",
      "         0.0       0.62      0.30      0.41       535\n",
      "         1.0       0.59      0.85      0.70       642\n",
      "\n",
      "    accuracy                           0.60      1177\n",
      "   macro avg       0.61      0.58      0.55      1177\n",
      "weighted avg       0.61      0.60      0.57      1177\n",
      "\n",
      "Validation ROC-AUC score: 0.5750778816199378\n",
      "Validation AUC score:     0.5750778816199378\n",
      "Accuracy: 59.98%\n",
      "LogLoss : 2.929621206215363\n"
     ]
    }
   ],
   "source": [
    "metrics_classific(y_validate,predictor(z2), X_validate)\n",
    "print(\"LogLoss :\", log_loss(y_validate,sigmoid(z2)))"
   ]
  },
  {
   "cell_type": "code",
   "execution_count": null,
   "metadata": {},
   "outputs": [],
   "source": []
  },
  {
   "cell_type": "code",
   "execution_count": null,
   "metadata": {},
   "outputs": [],
   "source": []
  },
  {
   "cell_type": "code",
   "execution_count": null,
   "metadata": {},
   "outputs": [],
   "source": []
  }
 ],
 "metadata": {
  "kernelspec": {
   "display_name": "tensorflow1",
   "language": "python",
   "name": "tensorflow1"
  },
  "language_info": {
   "codemirror_mode": {
    "name": "ipython",
    "version": 3
   },
   "file_extension": ".py",
   "mimetype": "text/x-python",
   "name": "python",
   "nbconvert_exporter": "python",
   "pygments_lexer": "ipython3",
   "version": "3.6.12"
  },
  "toc": {
   "base_numbering": 1,
   "nav_menu": {},
   "number_sections": true,
   "sideBar": true,
   "skip_h1_title": false,
   "title_cell": "Table of Contents",
   "title_sidebar": "Contents",
   "toc_cell": false,
   "toc_position": {},
   "toc_section_display": true,
   "toc_window_display": false
  }
 },
 "nbformat": 4,
 "nbformat_minor": 4
}
